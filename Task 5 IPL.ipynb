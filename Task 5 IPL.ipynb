{
 "cells": [
  {
   "cell_type": "markdown",
   "id": "3d4b8e20",
   "metadata": {},
   "source": [
    "# Data Science and Business Analytics Internship @TSF"
   ]
  },
  {
   "cell_type": "markdown",
   "id": "cd0b1c23",
   "metadata": {},
   "source": [
    "### Name : Omkar Rajendra Lokhande"
   ]
  },
  {
   "cell_type": "markdown",
   "id": "a0647cab",
   "metadata": {},
   "source": [
    "### Linkden Profile : https://www.linkedin.com/in/omkar-lokhande-059635204/"
   ]
  },
  {
   "cell_type": "markdown",
   "id": "c6160dac",
   "metadata": {},
   "source": [
    "### TSF Task 5 :- Exploratory Data Analysis - Sports(IPL)"
   ]
  },
  {
   "cell_type": "code",
   "execution_count": 1,
   "id": "06526524",
   "metadata": {},
   "outputs": [
    {
     "name": "stdout",
     "output_type": "stream",
     "text": [
      "Modules are Imported\n"
     ]
    }
   ],
   "source": [
    "import pandas as p\n",
    "import numpy as n\n",
    "import matplotlib.pyplot as m\n",
    "%matplotlib inline\n",
    "print(\"Modules are Imported\")"
   ]
  },
  {
   "cell_type": "markdown",
   "id": "463344e9",
   "metadata": {},
   "source": [
    "### Importing 1st Dataset"
   ]
  },
  {
   "cell_type": "code",
   "execution_count": 2,
   "id": "18468224",
   "metadata": {},
   "outputs": [
    {
     "data": {
      "text/html": [
       "<div>\n",
       "<style scoped>\n",
       "    .dataframe tbody tr th:only-of-type {\n",
       "        vertical-align: middle;\n",
       "    }\n",
       "\n",
       "    .dataframe tbody tr th {\n",
       "        vertical-align: top;\n",
       "    }\n",
       "\n",
       "    .dataframe thead th {\n",
       "        text-align: right;\n",
       "    }\n",
       "</style>\n",
       "<table border=\"1\" class=\"dataframe\">\n",
       "  <thead>\n",
       "    <tr style=\"text-align: right;\">\n",
       "      <th></th>\n",
       "      <th>id</th>\n",
       "      <th>season</th>\n",
       "      <th>city</th>\n",
       "      <th>date</th>\n",
       "      <th>team1</th>\n",
       "      <th>team2</th>\n",
       "      <th>toss_winner</th>\n",
       "      <th>toss_decision</th>\n",
       "      <th>result</th>\n",
       "      <th>dl_applied</th>\n",
       "      <th>winner</th>\n",
       "      <th>win_by_runs</th>\n",
       "      <th>win_by_wickets</th>\n",
       "      <th>player_of_match</th>\n",
       "      <th>venue</th>\n",
       "      <th>umpire1</th>\n",
       "      <th>umpire2</th>\n",
       "      <th>umpire3</th>\n",
       "    </tr>\n",
       "  </thead>\n",
       "  <tbody>\n",
       "    <tr>\n",
       "      <th>0</th>\n",
       "      <td>1</td>\n",
       "      <td>2017</td>\n",
       "      <td>Hyderabad</td>\n",
       "      <td>2017-04-05</td>\n",
       "      <td>Sunrisers Hyderabad</td>\n",
       "      <td>Royal Challengers Bangalore</td>\n",
       "      <td>Royal Challengers Bangalore</td>\n",
       "      <td>field</td>\n",
       "      <td>normal</td>\n",
       "      <td>0</td>\n",
       "      <td>Sunrisers Hyderabad</td>\n",
       "      <td>35</td>\n",
       "      <td>0</td>\n",
       "      <td>Yuvraj Singh</td>\n",
       "      <td>Rajiv Gandhi International Stadium, Uppal</td>\n",
       "      <td>AY Dandekar</td>\n",
       "      <td>NJ Llong</td>\n",
       "      <td>NaN</td>\n",
       "    </tr>\n",
       "    <tr>\n",
       "      <th>1</th>\n",
       "      <td>2</td>\n",
       "      <td>2017</td>\n",
       "      <td>Pune</td>\n",
       "      <td>2017-04-06</td>\n",
       "      <td>Mumbai Indians</td>\n",
       "      <td>Rising Pune Supergiant</td>\n",
       "      <td>Rising Pune Supergiant</td>\n",
       "      <td>field</td>\n",
       "      <td>normal</td>\n",
       "      <td>0</td>\n",
       "      <td>Rising Pune Supergiant</td>\n",
       "      <td>0</td>\n",
       "      <td>7</td>\n",
       "      <td>SPD Smith</td>\n",
       "      <td>Maharashtra Cricket Association Stadium</td>\n",
       "      <td>A Nand Kishore</td>\n",
       "      <td>S Ravi</td>\n",
       "      <td>NaN</td>\n",
       "    </tr>\n",
       "    <tr>\n",
       "      <th>2</th>\n",
       "      <td>3</td>\n",
       "      <td>2017</td>\n",
       "      <td>Rajkot</td>\n",
       "      <td>2017-04-07</td>\n",
       "      <td>Gujarat Lions</td>\n",
       "      <td>Kolkata Knight Riders</td>\n",
       "      <td>Kolkata Knight Riders</td>\n",
       "      <td>field</td>\n",
       "      <td>normal</td>\n",
       "      <td>0</td>\n",
       "      <td>Kolkata Knight Riders</td>\n",
       "      <td>0</td>\n",
       "      <td>10</td>\n",
       "      <td>CA Lynn</td>\n",
       "      <td>Saurashtra Cricket Association Stadium</td>\n",
       "      <td>Nitin Menon</td>\n",
       "      <td>CK Nandan</td>\n",
       "      <td>NaN</td>\n",
       "    </tr>\n",
       "    <tr>\n",
       "      <th>3</th>\n",
       "      <td>4</td>\n",
       "      <td>2017</td>\n",
       "      <td>Indore</td>\n",
       "      <td>2017-04-08</td>\n",
       "      <td>Rising Pune Supergiant</td>\n",
       "      <td>Kings XI Punjab</td>\n",
       "      <td>Kings XI Punjab</td>\n",
       "      <td>field</td>\n",
       "      <td>normal</td>\n",
       "      <td>0</td>\n",
       "      <td>Kings XI Punjab</td>\n",
       "      <td>0</td>\n",
       "      <td>6</td>\n",
       "      <td>GJ Maxwell</td>\n",
       "      <td>Holkar Cricket Stadium</td>\n",
       "      <td>AK Chaudhary</td>\n",
       "      <td>C Shamshuddin</td>\n",
       "      <td>NaN</td>\n",
       "    </tr>\n",
       "    <tr>\n",
       "      <th>4</th>\n",
       "      <td>5</td>\n",
       "      <td>2017</td>\n",
       "      <td>Bangalore</td>\n",
       "      <td>2017-04-08</td>\n",
       "      <td>Royal Challengers Bangalore</td>\n",
       "      <td>Delhi Daredevils</td>\n",
       "      <td>Royal Challengers Bangalore</td>\n",
       "      <td>bat</td>\n",
       "      <td>normal</td>\n",
       "      <td>0</td>\n",
       "      <td>Royal Challengers Bangalore</td>\n",
       "      <td>15</td>\n",
       "      <td>0</td>\n",
       "      <td>KM Jadhav</td>\n",
       "      <td>M Chinnaswamy Stadium</td>\n",
       "      <td>NaN</td>\n",
       "      <td>NaN</td>\n",
       "      <td>NaN</td>\n",
       "    </tr>\n",
       "  </tbody>\n",
       "</table>\n",
       "</div>"
      ],
      "text/plain": [
       "   id  season       city        date                        team1  \\\n",
       "0   1    2017  Hyderabad  2017-04-05          Sunrisers Hyderabad   \n",
       "1   2    2017       Pune  2017-04-06               Mumbai Indians   \n",
       "2   3    2017     Rajkot  2017-04-07                Gujarat Lions   \n",
       "3   4    2017     Indore  2017-04-08       Rising Pune Supergiant   \n",
       "4   5    2017  Bangalore  2017-04-08  Royal Challengers Bangalore   \n",
       "\n",
       "                         team2                  toss_winner toss_decision  \\\n",
       "0  Royal Challengers Bangalore  Royal Challengers Bangalore         field   \n",
       "1       Rising Pune Supergiant       Rising Pune Supergiant         field   \n",
       "2        Kolkata Knight Riders        Kolkata Knight Riders         field   \n",
       "3              Kings XI Punjab              Kings XI Punjab         field   \n",
       "4             Delhi Daredevils  Royal Challengers Bangalore           bat   \n",
       "\n",
       "   result  dl_applied                       winner  win_by_runs  \\\n",
       "0  normal           0          Sunrisers Hyderabad           35   \n",
       "1  normal           0       Rising Pune Supergiant            0   \n",
       "2  normal           0        Kolkata Knight Riders            0   \n",
       "3  normal           0              Kings XI Punjab            0   \n",
       "4  normal           0  Royal Challengers Bangalore           15   \n",
       "\n",
       "   win_by_wickets player_of_match                                      venue  \\\n",
       "0               0    Yuvraj Singh  Rajiv Gandhi International Stadium, Uppal   \n",
       "1               7       SPD Smith    Maharashtra Cricket Association Stadium   \n",
       "2              10         CA Lynn     Saurashtra Cricket Association Stadium   \n",
       "3               6      GJ Maxwell                     Holkar Cricket Stadium   \n",
       "4               0       KM Jadhav                      M Chinnaswamy Stadium   \n",
       "\n",
       "          umpire1        umpire2 umpire3  \n",
       "0     AY Dandekar       NJ Llong     NaN  \n",
       "1  A Nand Kishore         S Ravi     NaN  \n",
       "2     Nitin Menon      CK Nandan     NaN  \n",
       "3    AK Chaudhary  C Shamshuddin     NaN  \n",
       "4             NaN            NaN     NaN  "
      ]
     },
     "execution_count": 2,
     "metadata": {},
     "output_type": "execute_result"
    }
   ],
   "source": [
    "Matches_ds=p.read_csv('matches.csv')\n",
    "Matches_ds.head()"
   ]
  },
  {
   "cell_type": "code",
   "execution_count": 3,
   "id": "fe5e6964",
   "metadata": {},
   "outputs": [
    {
     "data": {
      "text/html": [
       "<div>\n",
       "<style scoped>\n",
       "    .dataframe tbody tr th:only-of-type {\n",
       "        vertical-align: middle;\n",
       "    }\n",
       "\n",
       "    .dataframe tbody tr th {\n",
       "        vertical-align: top;\n",
       "    }\n",
       "\n",
       "    .dataframe thead th {\n",
       "        text-align: right;\n",
       "    }\n",
       "</style>\n",
       "<table border=\"1\" class=\"dataframe\">\n",
       "  <thead>\n",
       "    <tr style=\"text-align: right;\">\n",
       "      <th></th>\n",
       "      <th>match_id</th>\n",
       "      <th>inning</th>\n",
       "      <th>batting_team</th>\n",
       "      <th>bowling_team</th>\n",
       "      <th>over</th>\n",
       "      <th>ball</th>\n",
       "      <th>batsman</th>\n",
       "      <th>non_striker</th>\n",
       "      <th>bowler</th>\n",
       "      <th>is_super_over</th>\n",
       "      <th>...</th>\n",
       "      <th>bye_runs</th>\n",
       "      <th>legbye_runs</th>\n",
       "      <th>noball_runs</th>\n",
       "      <th>penalty_runs</th>\n",
       "      <th>batsman_runs</th>\n",
       "      <th>extra_runs</th>\n",
       "      <th>total_runs</th>\n",
       "      <th>player_dismissed</th>\n",
       "      <th>dismissal_kind</th>\n",
       "      <th>fielder</th>\n",
       "    </tr>\n",
       "  </thead>\n",
       "  <tbody>\n",
       "    <tr>\n",
       "      <th>0</th>\n",
       "      <td>1</td>\n",
       "      <td>1</td>\n",
       "      <td>Sunrisers Hyderabad</td>\n",
       "      <td>Royal Challengers Bangalore</td>\n",
       "      <td>1</td>\n",
       "      <td>1</td>\n",
       "      <td>DA Warner</td>\n",
       "      <td>S Dhawan</td>\n",
       "      <td>TS Mills</td>\n",
       "      <td>0</td>\n",
       "      <td>...</td>\n",
       "      <td>0</td>\n",
       "      <td>0</td>\n",
       "      <td>0</td>\n",
       "      <td>0</td>\n",
       "      <td>0</td>\n",
       "      <td>0</td>\n",
       "      <td>0</td>\n",
       "      <td>NaN</td>\n",
       "      <td>NaN</td>\n",
       "      <td>NaN</td>\n",
       "    </tr>\n",
       "    <tr>\n",
       "      <th>1</th>\n",
       "      <td>1</td>\n",
       "      <td>1</td>\n",
       "      <td>Sunrisers Hyderabad</td>\n",
       "      <td>Royal Challengers Bangalore</td>\n",
       "      <td>1</td>\n",
       "      <td>2</td>\n",
       "      <td>DA Warner</td>\n",
       "      <td>S Dhawan</td>\n",
       "      <td>TS Mills</td>\n",
       "      <td>0</td>\n",
       "      <td>...</td>\n",
       "      <td>0</td>\n",
       "      <td>0</td>\n",
       "      <td>0</td>\n",
       "      <td>0</td>\n",
       "      <td>0</td>\n",
       "      <td>0</td>\n",
       "      <td>0</td>\n",
       "      <td>NaN</td>\n",
       "      <td>NaN</td>\n",
       "      <td>NaN</td>\n",
       "    </tr>\n",
       "    <tr>\n",
       "      <th>2</th>\n",
       "      <td>1</td>\n",
       "      <td>1</td>\n",
       "      <td>Sunrisers Hyderabad</td>\n",
       "      <td>Royal Challengers Bangalore</td>\n",
       "      <td>1</td>\n",
       "      <td>3</td>\n",
       "      <td>DA Warner</td>\n",
       "      <td>S Dhawan</td>\n",
       "      <td>TS Mills</td>\n",
       "      <td>0</td>\n",
       "      <td>...</td>\n",
       "      <td>0</td>\n",
       "      <td>0</td>\n",
       "      <td>0</td>\n",
       "      <td>0</td>\n",
       "      <td>4</td>\n",
       "      <td>0</td>\n",
       "      <td>4</td>\n",
       "      <td>NaN</td>\n",
       "      <td>NaN</td>\n",
       "      <td>NaN</td>\n",
       "    </tr>\n",
       "    <tr>\n",
       "      <th>3</th>\n",
       "      <td>1</td>\n",
       "      <td>1</td>\n",
       "      <td>Sunrisers Hyderabad</td>\n",
       "      <td>Royal Challengers Bangalore</td>\n",
       "      <td>1</td>\n",
       "      <td>4</td>\n",
       "      <td>DA Warner</td>\n",
       "      <td>S Dhawan</td>\n",
       "      <td>TS Mills</td>\n",
       "      <td>0</td>\n",
       "      <td>...</td>\n",
       "      <td>0</td>\n",
       "      <td>0</td>\n",
       "      <td>0</td>\n",
       "      <td>0</td>\n",
       "      <td>0</td>\n",
       "      <td>0</td>\n",
       "      <td>0</td>\n",
       "      <td>NaN</td>\n",
       "      <td>NaN</td>\n",
       "      <td>NaN</td>\n",
       "    </tr>\n",
       "    <tr>\n",
       "      <th>4</th>\n",
       "      <td>1</td>\n",
       "      <td>1</td>\n",
       "      <td>Sunrisers Hyderabad</td>\n",
       "      <td>Royal Challengers Bangalore</td>\n",
       "      <td>1</td>\n",
       "      <td>5</td>\n",
       "      <td>DA Warner</td>\n",
       "      <td>S Dhawan</td>\n",
       "      <td>TS Mills</td>\n",
       "      <td>0</td>\n",
       "      <td>...</td>\n",
       "      <td>0</td>\n",
       "      <td>0</td>\n",
       "      <td>0</td>\n",
       "      <td>0</td>\n",
       "      <td>0</td>\n",
       "      <td>2</td>\n",
       "      <td>2</td>\n",
       "      <td>NaN</td>\n",
       "      <td>NaN</td>\n",
       "      <td>NaN</td>\n",
       "    </tr>\n",
       "  </tbody>\n",
       "</table>\n",
       "<p>5 rows × 21 columns</p>\n",
       "</div>"
      ],
      "text/plain": [
       "   match_id  inning         batting_team                 bowling_team  over  \\\n",
       "0         1       1  Sunrisers Hyderabad  Royal Challengers Bangalore     1   \n",
       "1         1       1  Sunrisers Hyderabad  Royal Challengers Bangalore     1   \n",
       "2         1       1  Sunrisers Hyderabad  Royal Challengers Bangalore     1   \n",
       "3         1       1  Sunrisers Hyderabad  Royal Challengers Bangalore     1   \n",
       "4         1       1  Sunrisers Hyderabad  Royal Challengers Bangalore     1   \n",
       "\n",
       "   ball    batsman non_striker    bowler  is_super_over  ...  bye_runs  \\\n",
       "0     1  DA Warner    S Dhawan  TS Mills              0  ...         0   \n",
       "1     2  DA Warner    S Dhawan  TS Mills              0  ...         0   \n",
       "2     3  DA Warner    S Dhawan  TS Mills              0  ...         0   \n",
       "3     4  DA Warner    S Dhawan  TS Mills              0  ...         0   \n",
       "4     5  DA Warner    S Dhawan  TS Mills              0  ...         0   \n",
       "\n",
       "   legbye_runs  noball_runs  penalty_runs  batsman_runs  extra_runs  \\\n",
       "0            0            0             0             0           0   \n",
       "1            0            0             0             0           0   \n",
       "2            0            0             0             4           0   \n",
       "3            0            0             0             0           0   \n",
       "4            0            0             0             0           2   \n",
       "\n",
       "   total_runs  player_dismissed dismissal_kind fielder  \n",
       "0           0               NaN            NaN     NaN  \n",
       "1           0               NaN            NaN     NaN  \n",
       "2           4               NaN            NaN     NaN  \n",
       "3           0               NaN            NaN     NaN  \n",
       "4           2               NaN            NaN     NaN  \n",
       "\n",
       "[5 rows x 21 columns]"
      ]
     },
     "execution_count": 3,
     "metadata": {},
     "output_type": "execute_result"
    }
   ],
   "source": [
    "deliveries_ds=p.read_csv('deliveries.csv')\n",
    "deliveries_ds.head()"
   ]
  },
  {
   "cell_type": "markdown",
   "id": "f3146da9",
   "metadata": {},
   "source": [
    "### Pre-processing on 1st dataset "
   ]
  },
  {
   "cell_type": "code",
   "execution_count": 4,
   "id": "874c45f2",
   "metadata": {},
   "outputs": [
    {
     "data": {
      "text/plain": [
       "(756, 18)"
      ]
     },
     "execution_count": 4,
     "metadata": {},
     "output_type": "execute_result"
    }
   ],
   "source": [
    "Matches_ds.shape"
   ]
  },
  {
   "cell_type": "markdown",
   "id": "ebb27e32",
   "metadata": {},
   "source": [
    "* Dataset contains 756 IPL matches data with 18 attributes"
   ]
  },
  {
   "cell_type": "code",
   "execution_count": 5,
   "id": "68398f4f",
   "metadata": {},
   "outputs": [
    {
     "data": {
      "text/plain": [
       "Index(['id', 'season', 'city', 'date', 'team1', 'team2', 'toss_winner',\n",
       "       'toss_decision', 'result', 'dl_applied', 'winner', 'win_by_runs',\n",
       "       'win_by_wickets', 'player_of_match', 'venue', 'umpire1', 'umpire2',\n",
       "       'umpire3'],\n",
       "      dtype='object')"
      ]
     },
     "execution_count": 5,
     "metadata": {},
     "output_type": "execute_result"
    }
   ],
   "source": [
    "Matches_ds.columns"
   ]
  },
  {
   "cell_type": "markdown",
   "id": "a7aaec65",
   "metadata": {},
   "source": [
    "### Droping columns that are not required "
   ]
  },
  {
   "cell_type": "code",
   "execution_count": 6,
   "id": "1459c6b2",
   "metadata": {},
   "outputs": [],
   "source": [
    "Matches_ds = Matches_ds.drop(['umpire2','umpire3'],axis=1)"
   ]
  },
  {
   "cell_type": "code",
   "execution_count": 7,
   "id": "ae545e3d",
   "metadata": {},
   "outputs": [
    {
     "data": {
      "text/plain": [
       "(756, 16)"
      ]
     },
     "execution_count": 7,
     "metadata": {},
     "output_type": "execute_result"
    }
   ],
   "source": [
    "Matches_ds.shape"
   ]
  },
  {
   "cell_type": "markdown",
   "id": "54168add",
   "metadata": {},
   "source": [
    "### Checking info about dataset "
   ]
  },
  {
   "cell_type": "code",
   "execution_count": 8,
   "id": "3a67e0be",
   "metadata": {},
   "outputs": [
    {
     "name": "stdout",
     "output_type": "stream",
     "text": [
      "<class 'pandas.core.frame.DataFrame'>\n",
      "RangeIndex: 756 entries, 0 to 755\n",
      "Data columns (total 16 columns):\n",
      " #   Column           Non-Null Count  Dtype \n",
      "---  ------           --------------  ----- \n",
      " 0   id               756 non-null    int64 \n",
      " 1   season           756 non-null    int64 \n",
      " 2   city             749 non-null    object\n",
      " 3   date             756 non-null    object\n",
      " 4   team1            756 non-null    object\n",
      " 5   team2            756 non-null    object\n",
      " 6   toss_winner      756 non-null    object\n",
      " 7   toss_decision    756 non-null    object\n",
      " 8   result           756 non-null    object\n",
      " 9   dl_applied       756 non-null    int64 \n",
      " 10  winner           752 non-null    object\n",
      " 11  win_by_runs      756 non-null    int64 \n",
      " 12  win_by_wickets   756 non-null    int64 \n",
      " 13  player_of_match  752 non-null    object\n",
      " 14  venue            756 non-null    object\n",
      " 15  umpire1          754 non-null    object\n",
      "dtypes: int64(5), object(11)\n",
      "memory usage: 94.6+ KB\n"
     ]
    }
   ],
   "source": [
    "Matches_ds.info()"
   ]
  },
  {
   "cell_type": "markdown",
   "id": "7afab743",
   "metadata": {},
   "source": [
    "### Cheaking count of null and missing values "
   ]
  },
  {
   "cell_type": "code",
   "execution_count": 9,
   "id": "1060d5d1",
   "metadata": {},
   "outputs": [
    {
     "data": {
      "text/plain": [
       "id                 0\n",
       "season             0\n",
       "city               7\n",
       "date               0\n",
       "team1              0\n",
       "team2              0\n",
       "toss_winner        0\n",
       "toss_decision      0\n",
       "result             0\n",
       "dl_applied         0\n",
       "winner             4\n",
       "win_by_runs        0\n",
       "win_by_wickets     0\n",
       "player_of_match    4\n",
       "venue              0\n",
       "umpire1            2\n",
       "dtype: int64"
      ]
     },
     "execution_count": 9,
     "metadata": {},
     "output_type": "execute_result"
    }
   ],
   "source": [
    "Matches_ds.isnull().sum()"
   ]
  },
  {
   "cell_type": "markdown",
   "id": "4c7e310a",
   "metadata": {},
   "source": [
    "* 7 Missing values in city column, 4 each in \"winner\" and \"player of match\" column"
   ]
  },
  {
   "cell_type": "markdown",
   "id": "f98e8221",
   "metadata": {},
   "source": [
    "### Dealing with missing values "
   ]
  },
  {
   "cell_type": "code",
   "execution_count": 10,
   "id": "dfe3d9ff",
   "metadata": {},
   "outputs": [
    {
     "data": {
      "text/plain": [
       "array(['Hyderabad', 'Pune', 'Rajkot', 'Indore', 'Bangalore', 'Mumbai',\n",
       "       'Kolkata', 'Delhi', 'Chandigarh', 'Kanpur', 'Jaipur', 'Chennai',\n",
       "       'Cape Town', 'Port Elizabeth', 'Durban', 'Centurion',\n",
       "       'East London', 'Johannesburg', 'Kimberley', 'Bloemfontein',\n",
       "       'Ahmedabad', 'Cuttack', 'Nagpur', 'Dharamsala', 'Kochi',\n",
       "       'Visakhapatnam', 'Raipur', 'Ranchi', 'Abu Dhabi', 'Sharjah', nan,\n",
       "       'Mohali', 'Bengaluru'], dtype=object)"
      ]
     },
     "execution_count": 10,
     "metadata": {},
     "output_type": "execute_result"
    }
   ],
   "source": [
    "Matches_ds['city'].unique()\n"
   ]
  },
  {
   "cell_type": "code",
   "execution_count": 11,
   "id": "6990b257",
   "metadata": {},
   "outputs": [
    {
     "data": {
      "text/html": [
       "<div>\n",
       "<style scoped>\n",
       "    .dataframe tbody tr th:only-of-type {\n",
       "        vertical-align: middle;\n",
       "    }\n",
       "\n",
       "    .dataframe tbody tr th {\n",
       "        vertical-align: top;\n",
       "    }\n",
       "\n",
       "    .dataframe thead th {\n",
       "        text-align: right;\n",
       "    }\n",
       "</style>\n",
       "<table border=\"1\" class=\"dataframe\">\n",
       "  <thead>\n",
       "    <tr style=\"text-align: right;\">\n",
       "      <th></th>\n",
       "      <th>id</th>\n",
       "      <th>season</th>\n",
       "      <th>city</th>\n",
       "      <th>date</th>\n",
       "      <th>team1</th>\n",
       "      <th>team2</th>\n",
       "      <th>toss_winner</th>\n",
       "      <th>toss_decision</th>\n",
       "      <th>result</th>\n",
       "      <th>dl_applied</th>\n",
       "      <th>winner</th>\n",
       "      <th>win_by_runs</th>\n",
       "      <th>win_by_wickets</th>\n",
       "      <th>player_of_match</th>\n",
       "      <th>venue</th>\n",
       "      <th>umpire1</th>\n",
       "    </tr>\n",
       "  </thead>\n",
       "  <tbody>\n",
       "    <tr>\n",
       "      <th>461</th>\n",
       "      <td>462</td>\n",
       "      <td>2014</td>\n",
       "      <td>NaN</td>\n",
       "      <td>2014-04-19</td>\n",
       "      <td>Mumbai Indians</td>\n",
       "      <td>Royal Challengers Bangalore</td>\n",
       "      <td>Royal Challengers Bangalore</td>\n",
       "      <td>field</td>\n",
       "      <td>normal</td>\n",
       "      <td>0</td>\n",
       "      <td>Royal Challengers Bangalore</td>\n",
       "      <td>0</td>\n",
       "      <td>7</td>\n",
       "      <td>PA Patel</td>\n",
       "      <td>Dubai International Cricket Stadium</td>\n",
       "      <td>Aleem Dar</td>\n",
       "    </tr>\n",
       "    <tr>\n",
       "      <th>462</th>\n",
       "      <td>463</td>\n",
       "      <td>2014</td>\n",
       "      <td>NaN</td>\n",
       "      <td>2014-04-19</td>\n",
       "      <td>Kolkata Knight Riders</td>\n",
       "      <td>Delhi Daredevils</td>\n",
       "      <td>Kolkata Knight Riders</td>\n",
       "      <td>bat</td>\n",
       "      <td>normal</td>\n",
       "      <td>0</td>\n",
       "      <td>Delhi Daredevils</td>\n",
       "      <td>0</td>\n",
       "      <td>4</td>\n",
       "      <td>JP Duminy</td>\n",
       "      <td>Dubai International Cricket Stadium</td>\n",
       "      <td>Aleem Dar</td>\n",
       "    </tr>\n",
       "    <tr>\n",
       "      <th>466</th>\n",
       "      <td>467</td>\n",
       "      <td>2014</td>\n",
       "      <td>NaN</td>\n",
       "      <td>2014-04-23</td>\n",
       "      <td>Chennai Super Kings</td>\n",
       "      <td>Rajasthan Royals</td>\n",
       "      <td>Rajasthan Royals</td>\n",
       "      <td>field</td>\n",
       "      <td>normal</td>\n",
       "      <td>0</td>\n",
       "      <td>Chennai Super Kings</td>\n",
       "      <td>7</td>\n",
       "      <td>0</td>\n",
       "      <td>RA Jadeja</td>\n",
       "      <td>Dubai International Cricket Stadium</td>\n",
       "      <td>HDPK Dharmasena</td>\n",
       "    </tr>\n",
       "    <tr>\n",
       "      <th>468</th>\n",
       "      <td>469</td>\n",
       "      <td>2014</td>\n",
       "      <td>NaN</td>\n",
       "      <td>2014-04-25</td>\n",
       "      <td>Sunrisers Hyderabad</td>\n",
       "      <td>Delhi Daredevils</td>\n",
       "      <td>Sunrisers Hyderabad</td>\n",
       "      <td>bat</td>\n",
       "      <td>normal</td>\n",
       "      <td>0</td>\n",
       "      <td>Sunrisers Hyderabad</td>\n",
       "      <td>4</td>\n",
       "      <td>0</td>\n",
       "      <td>AJ Finch</td>\n",
       "      <td>Dubai International Cricket Stadium</td>\n",
       "      <td>M Erasmus</td>\n",
       "    </tr>\n",
       "    <tr>\n",
       "      <th>469</th>\n",
       "      <td>470</td>\n",
       "      <td>2014</td>\n",
       "      <td>NaN</td>\n",
       "      <td>2014-04-25</td>\n",
       "      <td>Mumbai Indians</td>\n",
       "      <td>Chennai Super Kings</td>\n",
       "      <td>Mumbai Indians</td>\n",
       "      <td>bat</td>\n",
       "      <td>normal</td>\n",
       "      <td>0</td>\n",
       "      <td>Chennai Super Kings</td>\n",
       "      <td>0</td>\n",
       "      <td>7</td>\n",
       "      <td>MM Sharma</td>\n",
       "      <td>Dubai International Cricket Stadium</td>\n",
       "      <td>BF Bowden</td>\n",
       "    </tr>\n",
       "    <tr>\n",
       "      <th>474</th>\n",
       "      <td>475</td>\n",
       "      <td>2014</td>\n",
       "      <td>NaN</td>\n",
       "      <td>2014-04-28</td>\n",
       "      <td>Royal Challengers Bangalore</td>\n",
       "      <td>Kings XI Punjab</td>\n",
       "      <td>Kings XI Punjab</td>\n",
       "      <td>field</td>\n",
       "      <td>normal</td>\n",
       "      <td>0</td>\n",
       "      <td>Kings XI Punjab</td>\n",
       "      <td>0</td>\n",
       "      <td>5</td>\n",
       "      <td>Sandeep Sharma</td>\n",
       "      <td>Dubai International Cricket Stadium</td>\n",
       "      <td>BF Bowden</td>\n",
       "    </tr>\n",
       "    <tr>\n",
       "      <th>476</th>\n",
       "      <td>477</td>\n",
       "      <td>2014</td>\n",
       "      <td>NaN</td>\n",
       "      <td>2014-04-30</td>\n",
       "      <td>Sunrisers Hyderabad</td>\n",
       "      <td>Mumbai Indians</td>\n",
       "      <td>Mumbai Indians</td>\n",
       "      <td>field</td>\n",
       "      <td>normal</td>\n",
       "      <td>0</td>\n",
       "      <td>Sunrisers Hyderabad</td>\n",
       "      <td>15</td>\n",
       "      <td>0</td>\n",
       "      <td>B Kumar</td>\n",
       "      <td>Dubai International Cricket Stadium</td>\n",
       "      <td>HDPK Dharmasena</td>\n",
       "    </tr>\n",
       "  </tbody>\n",
       "</table>\n",
       "</div>"
      ],
      "text/plain": [
       "      id  season city        date                        team1  \\\n",
       "461  462    2014  NaN  2014-04-19               Mumbai Indians   \n",
       "462  463    2014  NaN  2014-04-19        Kolkata Knight Riders   \n",
       "466  467    2014  NaN  2014-04-23          Chennai Super Kings   \n",
       "468  469    2014  NaN  2014-04-25          Sunrisers Hyderabad   \n",
       "469  470    2014  NaN  2014-04-25               Mumbai Indians   \n",
       "474  475    2014  NaN  2014-04-28  Royal Challengers Bangalore   \n",
       "476  477    2014  NaN  2014-04-30          Sunrisers Hyderabad   \n",
       "\n",
       "                           team2                  toss_winner toss_decision  \\\n",
       "461  Royal Challengers Bangalore  Royal Challengers Bangalore         field   \n",
       "462             Delhi Daredevils        Kolkata Knight Riders           bat   \n",
       "466             Rajasthan Royals             Rajasthan Royals         field   \n",
       "468             Delhi Daredevils          Sunrisers Hyderabad           bat   \n",
       "469          Chennai Super Kings               Mumbai Indians           bat   \n",
       "474              Kings XI Punjab              Kings XI Punjab         field   \n",
       "476               Mumbai Indians               Mumbai Indians         field   \n",
       "\n",
       "     result  dl_applied                       winner  win_by_runs  \\\n",
       "461  normal           0  Royal Challengers Bangalore            0   \n",
       "462  normal           0             Delhi Daredevils            0   \n",
       "466  normal           0          Chennai Super Kings            7   \n",
       "468  normal           0          Sunrisers Hyderabad            4   \n",
       "469  normal           0          Chennai Super Kings            0   \n",
       "474  normal           0              Kings XI Punjab            0   \n",
       "476  normal           0          Sunrisers Hyderabad           15   \n",
       "\n",
       "     win_by_wickets player_of_match                                venue  \\\n",
       "461               7        PA Patel  Dubai International Cricket Stadium   \n",
       "462               4       JP Duminy  Dubai International Cricket Stadium   \n",
       "466               0       RA Jadeja  Dubai International Cricket Stadium   \n",
       "468               0        AJ Finch  Dubai International Cricket Stadium   \n",
       "469               7       MM Sharma  Dubai International Cricket Stadium   \n",
       "474               5  Sandeep Sharma  Dubai International Cricket Stadium   \n",
       "476               0         B Kumar  Dubai International Cricket Stadium   \n",
       "\n",
       "             umpire1  \n",
       "461        Aleem Dar  \n",
       "462        Aleem Dar  \n",
       "466  HDPK Dharmasena  \n",
       "468        M Erasmus  \n",
       "469        BF Bowden  \n",
       "474        BF Bowden  \n",
       "476  HDPK Dharmasena  "
      ]
     },
     "execution_count": 11,
     "metadata": {},
     "output_type": "execute_result"
    }
   ],
   "source": [
    "Matches_ds[Matches_ds.city.isnull()]"
   ]
  },
  {
   "cell_type": "code",
   "execution_count": 12,
   "id": "0aa63462",
   "metadata": {},
   "outputs": [
    {
     "data": {
      "text/html": [
       "<div>\n",
       "<style scoped>\n",
       "    .dataframe tbody tr th:only-of-type {\n",
       "        vertical-align: middle;\n",
       "    }\n",
       "\n",
       "    .dataframe tbody tr th {\n",
       "        vertical-align: top;\n",
       "    }\n",
       "\n",
       "    .dataframe thead th {\n",
       "        text-align: right;\n",
       "    }\n",
       "</style>\n",
       "<table border=\"1\" class=\"dataframe\">\n",
       "  <thead>\n",
       "    <tr style=\"text-align: right;\">\n",
       "      <th></th>\n",
       "      <th>city</th>\n",
       "      <th>date</th>\n",
       "    </tr>\n",
       "  </thead>\n",
       "  <tbody>\n",
       "    <tr>\n",
       "      <th>461</th>\n",
       "      <td>NaN</td>\n",
       "      <td>2014-04-19</td>\n",
       "    </tr>\n",
       "    <tr>\n",
       "      <th>462</th>\n",
       "      <td>NaN</td>\n",
       "      <td>2014-04-19</td>\n",
       "    </tr>\n",
       "    <tr>\n",
       "      <th>466</th>\n",
       "      <td>NaN</td>\n",
       "      <td>2014-04-23</td>\n",
       "    </tr>\n",
       "    <tr>\n",
       "      <th>468</th>\n",
       "      <td>NaN</td>\n",
       "      <td>2014-04-25</td>\n",
       "    </tr>\n",
       "    <tr>\n",
       "      <th>469</th>\n",
       "      <td>NaN</td>\n",
       "      <td>2014-04-25</td>\n",
       "    </tr>\n",
       "    <tr>\n",
       "      <th>474</th>\n",
       "      <td>NaN</td>\n",
       "      <td>2014-04-28</td>\n",
       "    </tr>\n",
       "    <tr>\n",
       "      <th>476</th>\n",
       "      <td>NaN</td>\n",
       "      <td>2014-04-30</td>\n",
       "    </tr>\n",
       "  </tbody>\n",
       "</table>\n",
       "</div>"
      ],
      "text/plain": [
       "    city        date\n",
       "461  NaN  2014-04-19\n",
       "462  NaN  2014-04-19\n",
       "466  NaN  2014-04-23\n",
       "468  NaN  2014-04-25\n",
       "469  NaN  2014-04-25\n",
       "474  NaN  2014-04-28\n",
       "476  NaN  2014-04-30"
      ]
     },
     "execution_count": 12,
     "metadata": {},
     "output_type": "execute_result"
    }
   ],
   "source": [
    "Matches_ds[Matches_ds.city.isnull()][['city','date']]"
   ]
  },
  {
   "cell_type": "markdown",
   "id": "3921b0a9",
   "metadata": {},
   "source": [
    "* As these dates belongs to the matches where the city columns values are missing and we see that all these matches belongs to the 2014 Season. So We Can Use These Dates And Season Year(2014) to find out the city of the match. On web seach we can check that all the matches with missing city was played at Dubai International Stadium."
   ]
  },
  {
   "cell_type": "markdown",
   "id": "01d7c9b9",
   "metadata": {},
   "source": [
    "### Fill this missing values with the \"Dubai\" city"
   ]
  },
  {
   "cell_type": "code",
   "execution_count": 13,
   "id": "1ad44b15",
   "metadata": {},
   "outputs": [
    {
     "data": {
      "text/plain": [
       "id                 0\n",
       "season             0\n",
       "city               0\n",
       "date               0\n",
       "team1              0\n",
       "team2              0\n",
       "toss_winner        0\n",
       "toss_decision      0\n",
       "result             0\n",
       "dl_applied         0\n",
       "winner             4\n",
       "win_by_runs        0\n",
       "win_by_wickets     0\n",
       "player_of_match    4\n",
       "venue              0\n",
       "umpire1            2\n",
       "dtype: int64"
      ]
     },
     "execution_count": 13,
     "metadata": {},
     "output_type": "execute_result"
    }
   ],
   "source": [
    "Matches_ds.city=Matches_ds.city.fillna('Dubai')\n",
    "Matches_ds.isnull().sum()"
   ]
  },
  {
   "cell_type": "markdown",
   "id": "f47caf2f",
   "metadata": {},
   "source": [
    "* Now we can see that \"city\" column doesn't contain any missing values"
   ]
  },
  {
   "cell_type": "markdown",
   "id": "6760b5d7",
   "metadata": {},
   "source": [
    "### Deals with winner and player of match column"
   ]
  },
  {
   "cell_type": "code",
   "execution_count": 14,
   "id": "f22c52f1",
   "metadata": {},
   "outputs": [
    {
     "data": {
      "text/html": [
       "<div>\n",
       "<style scoped>\n",
       "    .dataframe tbody tr th:only-of-type {\n",
       "        vertical-align: middle;\n",
       "    }\n",
       "\n",
       "    .dataframe tbody tr th {\n",
       "        vertical-align: top;\n",
       "    }\n",
       "\n",
       "    .dataframe thead th {\n",
       "        text-align: right;\n",
       "    }\n",
       "</style>\n",
       "<table border=\"1\" class=\"dataframe\">\n",
       "  <thead>\n",
       "    <tr style=\"text-align: right;\">\n",
       "      <th></th>\n",
       "      <th>id</th>\n",
       "      <th>season</th>\n",
       "      <th>city</th>\n",
       "      <th>date</th>\n",
       "      <th>team1</th>\n",
       "      <th>team2</th>\n",
       "      <th>toss_winner</th>\n",
       "      <th>toss_decision</th>\n",
       "      <th>result</th>\n",
       "      <th>dl_applied</th>\n",
       "      <th>winner</th>\n",
       "      <th>win_by_runs</th>\n",
       "      <th>win_by_wickets</th>\n",
       "      <th>player_of_match</th>\n",
       "      <th>venue</th>\n",
       "      <th>umpire1</th>\n",
       "    </tr>\n",
       "  </thead>\n",
       "  <tbody>\n",
       "    <tr>\n",
       "      <th>300</th>\n",
       "      <td>301</td>\n",
       "      <td>2011</td>\n",
       "      <td>Delhi</td>\n",
       "      <td>2011-05-21</td>\n",
       "      <td>Delhi Daredevils</td>\n",
       "      <td>Pune Warriors</td>\n",
       "      <td>Delhi Daredevils</td>\n",
       "      <td>bat</td>\n",
       "      <td>no result</td>\n",
       "      <td>0</td>\n",
       "      <td>NaN</td>\n",
       "      <td>0</td>\n",
       "      <td>0</td>\n",
       "      <td>NaN</td>\n",
       "      <td>Feroz Shah Kotla</td>\n",
       "      <td>SS Hazare</td>\n",
       "    </tr>\n",
       "    <tr>\n",
       "      <th>545</th>\n",
       "      <td>546</td>\n",
       "      <td>2015</td>\n",
       "      <td>Bangalore</td>\n",
       "      <td>2015-04-29</td>\n",
       "      <td>Royal Challengers Bangalore</td>\n",
       "      <td>Rajasthan Royals</td>\n",
       "      <td>Rajasthan Royals</td>\n",
       "      <td>field</td>\n",
       "      <td>no result</td>\n",
       "      <td>0</td>\n",
       "      <td>NaN</td>\n",
       "      <td>0</td>\n",
       "      <td>0</td>\n",
       "      <td>NaN</td>\n",
       "      <td>M Chinnaswamy Stadium</td>\n",
       "      <td>JD Cloete</td>\n",
       "    </tr>\n",
       "    <tr>\n",
       "      <th>570</th>\n",
       "      <td>571</td>\n",
       "      <td>2015</td>\n",
       "      <td>Bangalore</td>\n",
       "      <td>2015-05-17</td>\n",
       "      <td>Delhi Daredevils</td>\n",
       "      <td>Royal Challengers Bangalore</td>\n",
       "      <td>Royal Challengers Bangalore</td>\n",
       "      <td>field</td>\n",
       "      <td>no result</td>\n",
       "      <td>0</td>\n",
       "      <td>NaN</td>\n",
       "      <td>0</td>\n",
       "      <td>0</td>\n",
       "      <td>NaN</td>\n",
       "      <td>M Chinnaswamy Stadium</td>\n",
       "      <td>HDPK Dharmasena</td>\n",
       "    </tr>\n",
       "    <tr>\n",
       "      <th>744</th>\n",
       "      <td>11340</td>\n",
       "      <td>2019</td>\n",
       "      <td>Bengaluru</td>\n",
       "      <td>30/04/19</td>\n",
       "      <td>Royal Challengers Bangalore</td>\n",
       "      <td>Rajasthan Royals</td>\n",
       "      <td>Rajasthan Royals</td>\n",
       "      <td>field</td>\n",
       "      <td>no result</td>\n",
       "      <td>0</td>\n",
       "      <td>NaN</td>\n",
       "      <td>0</td>\n",
       "      <td>0</td>\n",
       "      <td>NaN</td>\n",
       "      <td>M. Chinnaswamy Stadium</td>\n",
       "      <td>Nigel Llong</td>\n",
       "    </tr>\n",
       "  </tbody>\n",
       "</table>\n",
       "</div>"
      ],
      "text/plain": [
       "        id  season       city        date                        team1  \\\n",
       "300    301    2011      Delhi  2011-05-21             Delhi Daredevils   \n",
       "545    546    2015  Bangalore  2015-04-29  Royal Challengers Bangalore   \n",
       "570    571    2015  Bangalore  2015-05-17             Delhi Daredevils   \n",
       "744  11340    2019  Bengaluru    30/04/19  Royal Challengers Bangalore   \n",
       "\n",
       "                           team2                  toss_winner toss_decision  \\\n",
       "300                Pune Warriors             Delhi Daredevils           bat   \n",
       "545             Rajasthan Royals             Rajasthan Royals         field   \n",
       "570  Royal Challengers Bangalore  Royal Challengers Bangalore         field   \n",
       "744             Rajasthan Royals             Rajasthan Royals         field   \n",
       "\n",
       "        result  dl_applied winner  win_by_runs  win_by_wickets  \\\n",
       "300  no result           0    NaN            0               0   \n",
       "545  no result           0    NaN            0               0   \n",
       "570  no result           0    NaN            0               0   \n",
       "744  no result           0    NaN            0               0   \n",
       "\n",
       "    player_of_match                   venue          umpire1  \n",
       "300             NaN        Feroz Shah Kotla        SS Hazare  \n",
       "545             NaN   M Chinnaswamy Stadium        JD Cloete  \n",
       "570             NaN   M Chinnaswamy Stadium  HDPK Dharmasena  \n",
       "744             NaN  M. Chinnaswamy Stadium      Nigel Llong  "
      ]
     },
     "execution_count": 14,
     "metadata": {},
     "output_type": "execute_result"
    }
   ],
   "source": [
    "Matches_ds[Matches_ds.winner.isnull()]"
   ]
  },
  {
   "cell_type": "code",
   "execution_count": 15,
   "id": "b795774d",
   "metadata": {},
   "outputs": [
    {
     "data": {
      "text/html": [
       "<div>\n",
       "<style scoped>\n",
       "    .dataframe tbody tr th:only-of-type {\n",
       "        vertical-align: middle;\n",
       "    }\n",
       "\n",
       "    .dataframe tbody tr th {\n",
       "        vertical-align: top;\n",
       "    }\n",
       "\n",
       "    .dataframe thead th {\n",
       "        text-align: right;\n",
       "    }\n",
       "</style>\n",
       "<table border=\"1\" class=\"dataframe\">\n",
       "  <thead>\n",
       "    <tr style=\"text-align: right;\">\n",
       "      <th></th>\n",
       "      <th>result</th>\n",
       "      <th>winner</th>\n",
       "      <th>player_of_match</th>\n",
       "    </tr>\n",
       "  </thead>\n",
       "  <tbody>\n",
       "    <tr>\n",
       "      <th>300</th>\n",
       "      <td>no result</td>\n",
       "      <td>NaN</td>\n",
       "      <td>NaN</td>\n",
       "    </tr>\n",
       "    <tr>\n",
       "      <th>545</th>\n",
       "      <td>no result</td>\n",
       "      <td>NaN</td>\n",
       "      <td>NaN</td>\n",
       "    </tr>\n",
       "    <tr>\n",
       "      <th>570</th>\n",
       "      <td>no result</td>\n",
       "      <td>NaN</td>\n",
       "      <td>NaN</td>\n",
       "    </tr>\n",
       "    <tr>\n",
       "      <th>744</th>\n",
       "      <td>no result</td>\n",
       "      <td>NaN</td>\n",
       "      <td>NaN</td>\n",
       "    </tr>\n",
       "  </tbody>\n",
       "</table>\n",
       "</div>"
      ],
      "text/plain": [
       "        result winner player_of_match\n",
       "300  no result    NaN             NaN\n",
       "545  no result    NaN             NaN\n",
       "570  no result    NaN             NaN\n",
       "744  no result    NaN             NaN"
      ]
     },
     "execution_count": 15,
     "metadata": {},
     "output_type": "execute_result"
    }
   ],
   "source": [
    "Matches_ds[Matches_ds.winner.isnull()][['result','winner','player_of_match']]"
   ]
  },
  {
   "cell_type": "markdown",
   "id": "696bafad",
   "metadata": {},
   "source": [
    "* We can see that missing values at column \"winner\" and \"player of match\" corresponds to the \"result\" column of match, So we don't need to remove this."
   ]
  },
  {
   "cell_type": "markdown",
   "id": "6749242c",
   "metadata": {},
   "source": [
    "### Data pre-processing on second dataset "
   ]
  },
  {
   "cell_type": "code",
   "execution_count": 16,
   "id": "ae986d5b",
   "metadata": {},
   "outputs": [
    {
     "data": {
      "text/html": [
       "<div>\n",
       "<style scoped>\n",
       "    .dataframe tbody tr th:only-of-type {\n",
       "        vertical-align: middle;\n",
       "    }\n",
       "\n",
       "    .dataframe tbody tr th {\n",
       "        vertical-align: top;\n",
       "    }\n",
       "\n",
       "    .dataframe thead th {\n",
       "        text-align: right;\n",
       "    }\n",
       "</style>\n",
       "<table border=\"1\" class=\"dataframe\">\n",
       "  <thead>\n",
       "    <tr style=\"text-align: right;\">\n",
       "      <th></th>\n",
       "      <th>match_id</th>\n",
       "      <th>inning</th>\n",
       "      <th>batting_team</th>\n",
       "      <th>bowling_team</th>\n",
       "      <th>over</th>\n",
       "      <th>ball</th>\n",
       "      <th>batsman</th>\n",
       "      <th>non_striker</th>\n",
       "      <th>bowler</th>\n",
       "      <th>is_super_over</th>\n",
       "      <th>...</th>\n",
       "      <th>bye_runs</th>\n",
       "      <th>legbye_runs</th>\n",
       "      <th>noball_runs</th>\n",
       "      <th>penalty_runs</th>\n",
       "      <th>batsman_runs</th>\n",
       "      <th>extra_runs</th>\n",
       "      <th>total_runs</th>\n",
       "      <th>player_dismissed</th>\n",
       "      <th>dismissal_kind</th>\n",
       "      <th>fielder</th>\n",
       "    </tr>\n",
       "  </thead>\n",
       "  <tbody>\n",
       "    <tr>\n",
       "      <th>0</th>\n",
       "      <td>1</td>\n",
       "      <td>1</td>\n",
       "      <td>Sunrisers Hyderabad</td>\n",
       "      <td>Royal Challengers Bangalore</td>\n",
       "      <td>1</td>\n",
       "      <td>1</td>\n",
       "      <td>DA Warner</td>\n",
       "      <td>S Dhawan</td>\n",
       "      <td>TS Mills</td>\n",
       "      <td>0</td>\n",
       "      <td>...</td>\n",
       "      <td>0</td>\n",
       "      <td>0</td>\n",
       "      <td>0</td>\n",
       "      <td>0</td>\n",
       "      <td>0</td>\n",
       "      <td>0</td>\n",
       "      <td>0</td>\n",
       "      <td>NaN</td>\n",
       "      <td>NaN</td>\n",
       "      <td>NaN</td>\n",
       "    </tr>\n",
       "    <tr>\n",
       "      <th>1</th>\n",
       "      <td>1</td>\n",
       "      <td>1</td>\n",
       "      <td>Sunrisers Hyderabad</td>\n",
       "      <td>Royal Challengers Bangalore</td>\n",
       "      <td>1</td>\n",
       "      <td>2</td>\n",
       "      <td>DA Warner</td>\n",
       "      <td>S Dhawan</td>\n",
       "      <td>TS Mills</td>\n",
       "      <td>0</td>\n",
       "      <td>...</td>\n",
       "      <td>0</td>\n",
       "      <td>0</td>\n",
       "      <td>0</td>\n",
       "      <td>0</td>\n",
       "      <td>0</td>\n",
       "      <td>0</td>\n",
       "      <td>0</td>\n",
       "      <td>NaN</td>\n",
       "      <td>NaN</td>\n",
       "      <td>NaN</td>\n",
       "    </tr>\n",
       "    <tr>\n",
       "      <th>2</th>\n",
       "      <td>1</td>\n",
       "      <td>1</td>\n",
       "      <td>Sunrisers Hyderabad</td>\n",
       "      <td>Royal Challengers Bangalore</td>\n",
       "      <td>1</td>\n",
       "      <td>3</td>\n",
       "      <td>DA Warner</td>\n",
       "      <td>S Dhawan</td>\n",
       "      <td>TS Mills</td>\n",
       "      <td>0</td>\n",
       "      <td>...</td>\n",
       "      <td>0</td>\n",
       "      <td>0</td>\n",
       "      <td>0</td>\n",
       "      <td>0</td>\n",
       "      <td>4</td>\n",
       "      <td>0</td>\n",
       "      <td>4</td>\n",
       "      <td>NaN</td>\n",
       "      <td>NaN</td>\n",
       "      <td>NaN</td>\n",
       "    </tr>\n",
       "    <tr>\n",
       "      <th>3</th>\n",
       "      <td>1</td>\n",
       "      <td>1</td>\n",
       "      <td>Sunrisers Hyderabad</td>\n",
       "      <td>Royal Challengers Bangalore</td>\n",
       "      <td>1</td>\n",
       "      <td>4</td>\n",
       "      <td>DA Warner</td>\n",
       "      <td>S Dhawan</td>\n",
       "      <td>TS Mills</td>\n",
       "      <td>0</td>\n",
       "      <td>...</td>\n",
       "      <td>0</td>\n",
       "      <td>0</td>\n",
       "      <td>0</td>\n",
       "      <td>0</td>\n",
       "      <td>0</td>\n",
       "      <td>0</td>\n",
       "      <td>0</td>\n",
       "      <td>NaN</td>\n",
       "      <td>NaN</td>\n",
       "      <td>NaN</td>\n",
       "    </tr>\n",
       "    <tr>\n",
       "      <th>4</th>\n",
       "      <td>1</td>\n",
       "      <td>1</td>\n",
       "      <td>Sunrisers Hyderabad</td>\n",
       "      <td>Royal Challengers Bangalore</td>\n",
       "      <td>1</td>\n",
       "      <td>5</td>\n",
       "      <td>DA Warner</td>\n",
       "      <td>S Dhawan</td>\n",
       "      <td>TS Mills</td>\n",
       "      <td>0</td>\n",
       "      <td>...</td>\n",
       "      <td>0</td>\n",
       "      <td>0</td>\n",
       "      <td>0</td>\n",
       "      <td>0</td>\n",
       "      <td>0</td>\n",
       "      <td>2</td>\n",
       "      <td>2</td>\n",
       "      <td>NaN</td>\n",
       "      <td>NaN</td>\n",
       "      <td>NaN</td>\n",
       "    </tr>\n",
       "  </tbody>\n",
       "</table>\n",
       "<p>5 rows × 21 columns</p>\n",
       "</div>"
      ],
      "text/plain": [
       "   match_id  inning         batting_team                 bowling_team  over  \\\n",
       "0         1       1  Sunrisers Hyderabad  Royal Challengers Bangalore     1   \n",
       "1         1       1  Sunrisers Hyderabad  Royal Challengers Bangalore     1   \n",
       "2         1       1  Sunrisers Hyderabad  Royal Challengers Bangalore     1   \n",
       "3         1       1  Sunrisers Hyderabad  Royal Challengers Bangalore     1   \n",
       "4         1       1  Sunrisers Hyderabad  Royal Challengers Bangalore     1   \n",
       "\n",
       "   ball    batsman non_striker    bowler  is_super_over  ...  bye_runs  \\\n",
       "0     1  DA Warner    S Dhawan  TS Mills              0  ...         0   \n",
       "1     2  DA Warner    S Dhawan  TS Mills              0  ...         0   \n",
       "2     3  DA Warner    S Dhawan  TS Mills              0  ...         0   \n",
       "3     4  DA Warner    S Dhawan  TS Mills              0  ...         0   \n",
       "4     5  DA Warner    S Dhawan  TS Mills              0  ...         0   \n",
       "\n",
       "   legbye_runs  noball_runs  penalty_runs  batsman_runs  extra_runs  \\\n",
       "0            0            0             0             0           0   \n",
       "1            0            0             0             0           0   \n",
       "2            0            0             0             4           0   \n",
       "3            0            0             0             0           0   \n",
       "4            0            0             0             0           2   \n",
       "\n",
       "   total_runs  player_dismissed dismissal_kind fielder  \n",
       "0           0               NaN            NaN     NaN  \n",
       "1           0               NaN            NaN     NaN  \n",
       "2           4               NaN            NaN     NaN  \n",
       "3           0               NaN            NaN     NaN  \n",
       "4           2               NaN            NaN     NaN  \n",
       "\n",
       "[5 rows x 21 columns]"
      ]
     },
     "execution_count": 16,
     "metadata": {},
     "output_type": "execute_result"
    }
   ],
   "source": [
    "deliveries_ds.head()"
   ]
  },
  {
   "cell_type": "code",
   "execution_count": 17,
   "id": "70502472",
   "metadata": {},
   "outputs": [
    {
     "data": {
      "text/plain": [
       "(179078, 21)"
      ]
     },
     "execution_count": 17,
     "metadata": {},
     "output_type": "execute_result"
    }
   ],
   "source": [
    "deliveries_ds.shape"
   ]
  },
  {
   "cell_type": "markdown",
   "id": "22b96fd4",
   "metadata": {},
   "source": [
    "### This dataset contains 179078 deliveries data with 21 attributes"
   ]
  },
  {
   "cell_type": "code",
   "execution_count": 18,
   "id": "ffcb6e40",
   "metadata": {},
   "outputs": [
    {
     "data": {
      "text/plain": [
       "Index(['match_id', 'inning', 'batting_team', 'bowling_team', 'over', 'ball',\n",
       "       'batsman', 'non_striker', 'bowler', 'is_super_over', 'wide_runs',\n",
       "       'bye_runs', 'legbye_runs', 'noball_runs', 'penalty_runs',\n",
       "       'batsman_runs', 'extra_runs', 'total_runs', 'player_dismissed',\n",
       "       'dismissal_kind', 'fielder'],\n",
       "      dtype='object')"
      ]
     },
     "execution_count": 18,
     "metadata": {},
     "output_type": "execute_result"
    }
   ],
   "source": [
    "deliveries_ds.columns"
   ]
  },
  {
   "cell_type": "markdown",
   "id": "9fd59d89",
   "metadata": {},
   "source": [
    "### Checking the info of this dataset"
   ]
  },
  {
   "cell_type": "code",
   "execution_count": 19,
   "id": "87048433",
   "metadata": {},
   "outputs": [
    {
     "name": "stdout",
     "output_type": "stream",
     "text": [
      "<class 'pandas.core.frame.DataFrame'>\n",
      "RangeIndex: 179078 entries, 0 to 179077\n",
      "Data columns (total 21 columns):\n",
      " #   Column            Non-Null Count   Dtype \n",
      "---  ------            --------------   ----- \n",
      " 0   match_id          179078 non-null  int64 \n",
      " 1   inning            179078 non-null  int64 \n",
      " 2   batting_team      179078 non-null  object\n",
      " 3   bowling_team      179078 non-null  object\n",
      " 4   over              179078 non-null  int64 \n",
      " 5   ball              179078 non-null  int64 \n",
      " 6   batsman           179078 non-null  object\n",
      " 7   non_striker       179078 non-null  object\n",
      " 8   bowler            179078 non-null  object\n",
      " 9   is_super_over     179078 non-null  int64 \n",
      " 10  wide_runs         179078 non-null  int64 \n",
      " 11  bye_runs          179078 non-null  int64 \n",
      " 12  legbye_runs       179078 non-null  int64 \n",
      " 13  noball_runs       179078 non-null  int64 \n",
      " 14  penalty_runs      179078 non-null  int64 \n",
      " 15  batsman_runs      179078 non-null  int64 \n",
      " 16  extra_runs        179078 non-null  int64 \n",
      " 17  total_runs        179078 non-null  int64 \n",
      " 18  player_dismissed  8834 non-null    object\n",
      " 19  dismissal_kind    8834 non-null    object\n",
      " 20  fielder           6448 non-null    object\n",
      "dtypes: int64(13), object(8)\n",
      "memory usage: 28.7+ MB\n"
     ]
    }
   ],
   "source": [
    "deliveries_ds.info()"
   ]
  },
  {
   "cell_type": "markdown",
   "id": "1f07fe38",
   "metadata": {},
   "source": [
    "* Here the last three columns contains a lot of Missing values that are justified as this dataset consists ofevery delivery and a player can't be dismissed on every ball when the player is not out on any given ballthen these column must be Missing and same with the dismissal kind column and fielder columnbecause this fielder column corresponds to the player_dismissed & dismissal kind column and fieldercolumn contains more Missing values than the other 2 columns because a fielder can't be involve in every dismissal (eg. Bowled, hit wicket etc.)\n"
   ]
  },
  {
   "cell_type": "markdown",
   "id": "6182e372",
   "metadata": {},
   "source": [
    "### 1 :- Analysis of IPL Team"
   ]
  },
  {
   "cell_type": "code",
   "execution_count": 20,
   "id": "e74cb73f",
   "metadata": {},
   "outputs": [
    {
     "data": {
      "text/plain": [
       "Mumbai Indians                 109\n",
       "Chennai Super Kings            100\n",
       "Kolkata Knight Riders           92\n",
       "Royal Challengers Bangalore     84\n",
       "Kings XI Punjab                 82\n",
       "Rajasthan Royals                75\n",
       "Delhi Daredevils                67\n",
       "Sunrisers Hyderabad             58\n",
       "Deccan Chargers                 29\n",
       "Gujarat Lions                   13\n",
       "Pune Warriors                   12\n",
       "Delhi Capitals                  10\n",
       "Rising Pune Supergiant          10\n",
       "Kochi Tuskers Kerala             6\n",
       "Rising Pune Supergiants          5\n",
       "Name: winner, dtype: int64"
      ]
     },
     "execution_count": 20,
     "metadata": {},
     "output_type": "execute_result"
    }
   ],
   "source": [
    "w_teams=Matches_ds['winner'].value_counts()\n",
    "w_teams\n"
   ]
  },
  {
   "cell_type": "markdown",
   "id": "a2b82ff2",
   "metadata": {},
   "source": [
    "* We can see that a team \"Rising Pune Supergiant\" repeated twice due to spelling change so first correct this"
   ]
  },
  {
   "cell_type": "code",
   "execution_count": 21,
   "id": "f54abf55",
   "metadata": {},
   "outputs": [],
   "source": [
    "Matches_ds['winner'].replace(to_replace='Rising Pune Supergiant', value='Rising Pune Supergiants',inplace=True)\n"
   ]
  },
  {
   "cell_type": "code",
   "execution_count": 22,
   "id": "c6d19e6c",
   "metadata": {},
   "outputs": [
    {
     "data": {
      "text/plain": [
       "14"
      ]
     },
     "execution_count": 22,
     "metadata": {},
     "output_type": "execute_result"
    }
   ],
   "source": [
    "w_teams=Matches_ds['winner'].value_counts()\n",
    "len(w_teams)\n"
   ]
  },
  {
   "cell_type": "markdown",
   "id": "1d7080b3",
   "metadata": {},
   "source": [
    "* There are 14 Teams participated in ipl so far"
   ]
  },
  {
   "cell_type": "markdown",
   "id": "f1ef9d3a",
   "metadata": {},
   "source": [
    "### Teams with most number of wins"
   ]
  },
  {
   "cell_type": "code",
   "execution_count": 23,
   "id": "c165eadb",
   "metadata": {},
   "outputs": [
    {
     "data": {
      "text/plain": [
       "<matplotlib.legend.Legend at 0x24fab6b1f10>"
      ]
     },
     "execution_count": 23,
     "metadata": {},
     "output_type": "execute_result"
    },
    {
     "data": {
      "image/png": "[encoded data removed]",
      "text/plain": [
       "<Figure size 720x360 with 1 Axes>"
      ]
     },
     "metadata": {
      "needs_background": "light"
     },
     "output_type": "display_data"
    }
   ],
   "source": [
    "\n",
    "data = []\n",
    "\n",
    "for i in Matches_ds['winner'].unique():\n",
    "    data.append([i , len(Matches_ds[Matches_ds['winner'] ==i])])\n",
    "p.DataFrame(data,columns = ['Teams','match_wins']).sort_values(by='match_wins', ascending=False).plot(x = \"Teams\", y = \"match_wins\", title='Teams With Most Number Of Wins',kind = 'bar',color='yellow' ,figsize = (10,5))\n",
    "m.style.use('dark_background')\n",
    "m.legend()"
   ]
  },
  {
   "cell_type": "markdown",
   "id": "ae7b8fa1",
   "metadata": {},
   "source": [
    "* Mumbai Indians won most number of matches (109) followed by Chennai Super Kings (100) and Kolkata Knight Riders(92)"
   ]
  },
  {
   "cell_type": "markdown",
   "id": "14aef881",
   "metadata": {},
   "source": [
    "### Team won by maximum runs "
   ]
  },
  {
   "cell_type": "code",
   "execution_count": 24,
   "id": "741761c3",
   "metadata": {},
   "outputs": [
    {
     "data": {
      "text/plain": [
       "146"
      ]
     },
     "execution_count": 24,
     "metadata": {},
     "output_type": "execute_result"
    }
   ],
   "source": [
    "Matches_ds['win_by_runs'].max()"
   ]
  },
  {
   "cell_type": "markdown",
   "id": "aa4fe368",
   "metadata": {},
   "source": [
    "* 146 runs is the maximum run by which a team won"
   ]
  },
  {
   "cell_type": "markdown",
   "id": "4b7881a3",
   "metadata": {},
   "source": [
    "### Let's check this match info"
   ]
  },
  {
   "cell_type": "code",
   "execution_count": 25,
   "id": "fd96b9d1",
   "metadata": {},
   "outputs": [
    {
     "data": {
      "text/plain": [
       "id                               44\n",
       "season                         2017\n",
       "city                          Delhi\n",
       "date                     2017-05-06\n",
       "team1                Mumbai Indians\n",
       "team2              Delhi Daredevils\n",
       "toss_winner        Delhi Daredevils\n",
       "toss_decision                 field\n",
       "result                       normal\n",
       "dl_applied                        0\n",
       "winner               Mumbai Indians\n",
       "win_by_runs                     146\n",
       "win_by_wickets                    0\n",
       "player_of_match         LMP Simmons\n",
       "venue              Feroz Shah Kotla\n",
       "umpire1                 Nitin Menon\n",
       "Name: 43, dtype: object"
      ]
     },
     "execution_count": 25,
     "metadata": {},
     "output_type": "execute_result"
    }
   ],
   "source": [
    "Matches_ds.iloc[Matches_ds['win_by_runs'].idxmax()]"
   ]
  },
  {
   "cell_type": "markdown",
   "id": "a4a0cb65",
   "metadata": {},
   "source": [
    "* This Match was played between Mumbai Indians & Delhi Daredevils on 6th May 2017 at Venue Feroz Shah Kotla Stadium, Delhi and Player of the match was LMP Simmons"
   ]
  },
  {
   "cell_type": "markdown",
   "id": "a2c17f10",
   "metadata": {},
   "source": [
    "### Team won by maximum wickets "
   ]
  },
  {
   "cell_type": "code",
   "execution_count": 26,
   "id": "00574914",
   "metadata": {},
   "outputs": [
    {
     "data": {
      "text/plain": [
       "10"
      ]
     },
     "execution_count": 26,
     "metadata": {},
     "output_type": "execute_result"
    }
   ],
   "source": [
    "Matches_ds['win_by_wickets'].max()"
   ]
  },
  {
   "cell_type": "markdown",
   "id": "cbe31058",
   "metadata": {},
   "source": [
    "* 10 wickets win is maximum win by wickets"
   ]
  },
  {
   "cell_type": "markdown",
   "id": "7e0de65f",
   "metadata": {},
   "source": [
    "### Let's check the info of this match "
   ]
  },
  {
   "cell_type": "code",
   "execution_count": 27,
   "id": "39638126",
   "metadata": {},
   "outputs": [
    {
     "data": {
      "text/plain": [
       "id                                                      3\n",
       "season                                               2017\n",
       "city                                               Rajkot\n",
       "date                                           2017-04-07\n",
       "team1                                       Gujarat Lions\n",
       "team2                               Kolkata Knight Riders\n",
       "toss_winner                         Kolkata Knight Riders\n",
       "toss_decision                                       field\n",
       "result                                             normal\n",
       "dl_applied                                              0\n",
       "winner                              Kolkata Knight Riders\n",
       "win_by_runs                                             0\n",
       "win_by_wickets                                         10\n",
       "player_of_match                                   CA Lynn\n",
       "venue              Saurashtra Cricket Association Stadium\n",
       "umpire1                                       Nitin Menon\n",
       "Name: 2, dtype: object"
      ]
     },
     "execution_count": 27,
     "metadata": {},
     "output_type": "execute_result"
    }
   ],
   "source": [
    "Matches_ds.iloc[Matches_ds['win_by_wickets'].idxmax()]"
   ]
  },
  {
   "cell_type": "markdown",
   "id": "c32fa269",
   "metadata": {},
   "source": [
    "* This Match was played between Gujarat Lions & Kolkata Knight Riders on 6th May 2017 at Venue Saurashtra Cricket Association Stadium and Player of the match was CA Lynn"
   ]
  },
  {
   "cell_type": "markdown",
   "id": "1413fbad",
   "metadata": {},
   "source": [
    "### Team with most number of title "
   ]
  },
  {
   "cell_type": "code",
   "execution_count": 28,
   "id": "f27470ad",
   "metadata": {},
   "outputs": [],
   "source": [
    "winners=Matches_ds[['season','winner']]"
   ]
  },
  {
   "cell_type": "code",
   "execution_count": 29,
   "id": "0cea4216",
   "metadata": {},
   "outputs": [
    {
     "data": {
      "text/html": [
       "<div>\n",
       "<style scoped>\n",
       "    .dataframe tbody tr th:only-of-type {\n",
       "        vertical-align: middle;\n",
       "    }\n",
       "\n",
       "    .dataframe tbody tr th {\n",
       "        vertical-align: top;\n",
       "    }\n",
       "\n",
       "    .dataframe thead th {\n",
       "        text-align: right;\n",
       "    }\n",
       "</style>\n",
       "<table border=\"1\" class=\"dataframe\">\n",
       "  <thead>\n",
       "    <tr style=\"text-align: right;\">\n",
       "      <th></th>\n",
       "      <th>season_winner</th>\n",
       "    </tr>\n",
       "  </thead>\n",
       "  <tbody>\n",
       "    <tr>\n",
       "      <th>2008</th>\n",
       "      <td>Rajasthan Royals</td>\n",
       "    </tr>\n",
       "    <tr>\n",
       "      <th>2009</th>\n",
       "      <td>Deccan Chargers</td>\n",
       "    </tr>\n",
       "    <tr>\n",
       "      <th>2010</th>\n",
       "      <td>Chennai Super Kings</td>\n",
       "    </tr>\n",
       "    <tr>\n",
       "      <th>2011</th>\n",
       "      <td>Chennai Super Kings</td>\n",
       "    </tr>\n",
       "    <tr>\n",
       "      <th>2012</th>\n",
       "      <td>Kolkata Knight Riders</td>\n",
       "    </tr>\n",
       "    <tr>\n",
       "      <th>2013</th>\n",
       "      <td>Mumbai Indians</td>\n",
       "    </tr>\n",
       "    <tr>\n",
       "      <th>2014</th>\n",
       "      <td>Kolkata Knight Riders</td>\n",
       "    </tr>\n",
       "    <tr>\n",
       "      <th>2015</th>\n",
       "      <td>Mumbai Indians</td>\n",
       "    </tr>\n",
       "    <tr>\n",
       "      <th>2016</th>\n",
       "      <td>Sunrisers Hyderabad</td>\n",
       "    </tr>\n",
       "    <tr>\n",
       "      <th>2017</th>\n",
       "      <td>Mumbai Indians</td>\n",
       "    </tr>\n",
       "    <tr>\n",
       "      <th>2018</th>\n",
       "      <td>Chennai Super Kings</td>\n",
       "    </tr>\n",
       "    <tr>\n",
       "      <th>2019</th>\n",
       "      <td>Mumbai Indians</td>\n",
       "    </tr>\n",
       "  </tbody>\n",
       "</table>\n",
       "</div>"
      ],
      "text/plain": [
       "              season_winner\n",
       "2008       Rajasthan Royals\n",
       "2009        Deccan Chargers\n",
       "2010    Chennai Super Kings\n",
       "2011    Chennai Super Kings\n",
       "2012  Kolkata Knight Riders\n",
       "2013         Mumbai Indians\n",
       "2014  Kolkata Knight Riders\n",
       "2015         Mumbai Indians\n",
       "2016    Sunrisers Hyderabad\n",
       "2017         Mumbai Indians\n",
       "2018    Chennai Super Kings\n",
       "2019         Mumbai Indians"
      ]
     },
     "execution_count": 29,
     "metadata": {},
     "output_type": "execute_result"
    }
   ],
   "source": [
    "data = { }\n",
    "for i in sorted(winners.season.unique()):\n",
    "    data[i]=winners[winners.season==i]['winner'].tail(1).values[0]\n",
    "\n",
    "season_winner=p.Series(data)\n",
    "season_winner=p.DataFrame(season_winner,columns=['season_winner'])\n",
    "season_winner"
   ]
  },
  {
   "cell_type": "code",
   "execution_count": 30,
   "id": "fb59d60b",
   "metadata": {},
   "outputs": [
    {
     "data": {
      "text/plain": [
       "Mumbai Indians           4\n",
       "Chennai Super Kings      3\n",
       "Kolkata Knight Riders    2\n",
       "Rajasthan Royals         1\n",
       "Deccan Chargers          1\n",
       "Sunrisers Hyderabad      1\n",
       "Name: season_winner, dtype: int64"
      ]
     },
     "execution_count": 30,
     "metadata": {},
     "output_type": "execute_result"
    }
   ],
   "source": [
    "season_winner=season_winner['season_winner'].value_counts()\n",
    "season_winner"
   ]
  },
  {
   "cell_type": "code",
   "execution_count": 31,
   "id": "f09a1800",
   "metadata": {},
   "outputs": [
    {
     "data": {
      "text/plain": [
       "<matplotlib.legend.Legend at 0x24fae18cb50>"
      ]
     },
     "execution_count": 31,
     "metadata": {},
     "output_type": "execute_result"
    },
    {
     "data": {
      "image/png": "[encoded data removed]",
      "text/plain": [
       "<Figure size 720x360 with 1 Axes>"
      ]
     },
     "metadata": {},
     "output_type": "display_data"
    }
   ],
   "source": [
    "season_winner.plot.bar(xlabel='Teams',ylabel='Number of Title',title='Teams With Most Titles',color='orange',figsize=(10,5))\n",
    "m.style.use('dark_background')\n",
    "m.legend()"
   ]
  },
  {
   "cell_type": "markdown",
   "id": "c112e65d",
   "metadata": {},
   "source": [
    "* Mumbai Indians is most succesful IPL Team with 4 IPL Titles followed by Chennai Super Kings(3 IPL Titles) and Kolkata Knight Riders(2 IPL Titles). These are also the Top 3 team who won maximum number of matches in IPL"
   ]
  },
  {
   "cell_type": "code",
   "execution_count": 32,
   "id": "a0fce228",
   "metadata": {},
   "outputs": [
    {
     "data": {
      "text/plain": [
       "Mumbai Indians                 98\n",
       "Kolkata Knight Riders          92\n",
       "Chennai Super Kings            89\n",
       "Royal Challengers Bangalore    81\n",
       "Kings XI Punjab                81\n",
       "Rajasthan Royals               80\n",
       "Delhi Daredevils               80\n",
       "Sunrisers Hyderabad            46\n",
       "Deccan Chargers                43\n",
       "Pune Warriors                  20\n",
       "Gujarat Lions                  15\n",
       "Delhi Capitals                 10\n",
       "Kochi Tuskers Kerala            8\n",
       "Rising Pune Supergiants         7\n",
       "Rising Pune Supergiant          6\n",
       "Name: toss_winner, dtype: int64"
      ]
     },
     "execution_count": 32,
     "metadata": {},
     "output_type": "execute_result"
    }
   ],
   "source": [
    "most_toss_win=Matches_ds['toss_winner'].value_counts()\n",
    "most_toss_win\n"
   ]
  },
  {
   "cell_type": "code",
   "execution_count": 33,
   "id": "3cf978ab",
   "metadata": {},
   "outputs": [
    {
     "data": {
      "text/plain": [
       "<matplotlib.legend.Legend at 0x24fae232d30>"
      ]
     },
     "execution_count": 33,
     "metadata": {},
     "output_type": "execute_result"
    },
    {
     "data": {
      "image/png": "[encoded data removed]",
      "text/plain": [
       "<Figure size 720x360 with 1 Axes>"
      ]
     },
     "metadata": {},
     "output_type": "display_data"
    }
   ],
   "source": [
    "most_toss_win.plot.bar(xlabel='Teams',ylabel='Number Of Tosses',title='Toss impact on team wins',color='green',figsize=(10,5))\n",
    "m.style.use('dark_background')\n",
    "m.legend()"
   ]
  },
  {
   "cell_type": "markdown",
   "id": "ddca3705",
   "metadata": {},
   "source": [
    "* We can infer from this the winning the toss impacts on match winner as top 3 most succeful teams (Mumbai Indians,Kolkata Knight Riders & Chennai Super Kings) of ipl also won most number of tosses"
   ]
  },
  {
   "cell_type": "markdown",
   "id": "e0ba0da6",
   "metadata": {},
   "source": [
    "### Toss decision by teams "
   ]
  },
  {
   "cell_type": "code",
   "execution_count": 34,
   "id": "64a9595d",
   "metadata": {},
   "outputs": [],
   "source": [
    "toss_decision=Matches_ds['toss_decision'].value_counts()"
   ]
  },
  {
   "cell_type": "code",
   "execution_count": 35,
   "id": "9893b8b6",
   "metadata": {},
   "outputs": [
    {
     "data": {
      "text/plain": [
       "field    463\n",
       "bat      293\n",
       "Name: toss_decision, dtype: int64"
      ]
     },
     "execution_count": 35,
     "metadata": {},
     "output_type": "execute_result"
    }
   ],
   "source": [
    "toss_decision"
   ]
  },
  {
   "cell_type": "code",
   "execution_count": 36,
   "id": "7482a953",
   "metadata": {},
   "outputs": [
    {
     "data": {
      "text/plain": [
       "<matplotlib.legend.Legend at 0x24fae438ca0>"
      ]
     },
     "execution_count": 36,
     "metadata": {},
     "output_type": "execute_result"
    },
    {
     "data": {
      "image/png": "[encoded data removed]",
      "text/plain": [
       "<Figure size 720x360 with 1 Axes>"
      ]
     },
     "metadata": {},
     "output_type": "display_data"
    }
   ],
   "source": [
    "toss_decision.plot.bar(ylabel='%Count Of Toss Selection',title='Toss Selection By Teams',color='purple',figsize=(10,5))\n",
    "m.style.use('dark_background')\n",
    "m.legend()"
   ]
  },
  {
   "cell_type": "markdown",
   "id": "dc05b8b9",
   "metadata": {},
   "source": [
    "* From this analysis we can infer that most of time teams preferred field first when they won the toss"
   ]
  },
  {
   "cell_type": "markdown",
   "id": "b8b42fa5",
   "metadata": {},
   "source": [
    "### Teams winning by batting first"
   ]
  },
  {
   "cell_type": "code",
   "execution_count": 37,
   "id": "9da03ed5",
   "metadata": {},
   "outputs": [
    {
     "data": {
      "text/plain": [
       "Mumbai Indians                 57\n",
       "Chennai Super Kings            52\n",
       "Kings XI Punjab                38\n",
       "Kolkata Knight Riders          36\n",
       "Royal Challengers Bangalore    35\n",
       "Sunrisers Hyderabad            30\n",
       "Rajasthan Royals               27\n",
       "Delhi Daredevils               25\n",
       "Deccan Chargers                18\n",
       "Rising Pune Supergiants         7\n",
       "Pune Warriors                   6\n",
       "Delhi Capitals                  3\n",
       "Kochi Tuskers Kerala            2\n",
       "Gujarat Lions                   1\n",
       "Name: winner, dtype: int64"
      ]
     },
     "execution_count": 37,
     "metadata": {},
     "output_type": "execute_result"
    }
   ],
   "source": [
    "most_win_batting_first=Matches_ds.winner[Matches_ds.win_by_runs!=0].value_counts()\n",
    "most_win_batting_first"
   ]
  },
  {
   "cell_type": "code",
   "execution_count": 38,
   "id": "ac24aadf",
   "metadata": {},
   "outputs": [
    {
     "data": {
      "text/plain": [
       "<matplotlib.legend.Legend at 0x24fae6d3a60>"
      ]
     },
     "execution_count": 38,
     "metadata": {},
     "output_type": "execute_result"
    },
    {
     "data": {
      "image/png": "[encoded data removed]",
      "text/plain": [
       "<Figure size 720x360 with 1 Axes>"
      ]
     },
     "metadata": {},
     "output_type": "display_data"
    }
   ],
   "source": [
    "most_win_batting_first.plot.bar(xlabel='Teams',title='Teams With Maximum Wins While Batting First',color='red',figsize=(10,5))\n",
    "m.style.use('dark_background')\n",
    "m.legend()"
   ]
  },
  {
   "cell_type": "markdown",
   "id": "ebc851bd",
   "metadata": {},
   "source": [
    "* We can see that Mumbai Indians registered most wins while batting first as compared to other teams, so from this analysis we can also say that Mumbai Indians is the best team while defending the score"
   ]
  },
  {
   "cell_type": "markdown",
   "id": "65e1d08e",
   "metadata": {},
   "source": [
    "### Key Insights: "
   ]
  },
  {
   "cell_type": "markdown",
   "id": "53021072",
   "metadata": {},
   "source": [
    "* Total 14 teams participated in IPL over 11 Years(2008-2019) out of which only 6 teams managed to win the IPL Title\n",
    "* Mumbai Indians is the most Successful team In the IPL history (with most number of IPL titles (4) and most number of match wins(109) followed by Chennai Super Kings (with 3 IPL titles and second most wins in IPL(100) and Kolkata Knight Rider(with 2 IPL titles and third most number of wins (92)\n",
    "* from the toss analysis we can Infer that the Top 3 most successful teams also won maximum number of tosses and the teams who won the toss preffered to Field first\n",
    "* Mumbai Indians is the most successful team while defending the target\n",
    "* Kolkata Knight Riders is the most successful team while chasing the target"
   ]
  },
  {
   "cell_type": "markdown",
   "id": "70b4de19",
   "metadata": {},
   "source": [
    "### 2 : Analysis of IPL players"
   ]
  },
  {
   "cell_type": "markdown",
   "id": "81449392",
   "metadata": {},
   "source": [
    "#### Most player of the match award"
   ]
  },
  {
   "cell_type": "code",
   "execution_count": 39,
   "id": "1cf2becc",
   "metadata": {},
   "outputs": [],
   "source": [
    "\n",
    "most_player_of_match=Matches_ds['player_of_match'].value_counts()[0:11]"
   ]
  },
  {
   "cell_type": "code",
   "execution_count": 40,
   "id": "e2da0c94",
   "metadata": {},
   "outputs": [
    {
     "data": {
      "text/plain": [
       "CH Gayle          21\n",
       "AB de Villiers    20\n",
       "MS Dhoni          17\n",
       "DA Warner         17\n",
       "RG Sharma         17\n",
       "YK Pathan         16\n",
       "SR Watson         15\n",
       "SK Raina          14\n",
       "G Gambhir         13\n",
       "MEK Hussey        12\n",
       "AM Rahane         12\n",
       "Name: player_of_match, dtype: int64"
      ]
     },
     "execution_count": 40,
     "metadata": {},
     "output_type": "execute_result"
    }
   ],
   "source": [
    "most_player_of_match"
   ]
  },
  {
   "cell_type": "code",
   "execution_count": 41,
   "id": "d898b5e7",
   "metadata": {},
   "outputs": [
    {
     "data": {
      "text/plain": [
       "<matplotlib.legend.Legend at 0x24fae8ca6d0>"
      ]
     },
     "execution_count": 41,
     "metadata": {},
     "output_type": "execute_result"
    },
    {
     "data": {
      "image/png": "[encoded data removed]",
      "text/plain": [
       "<Figure size 720x360 with 1 Axes>"
      ]
     },
     "metadata": {},
     "output_type": "display_data"
    }
   ],
   "source": [
    "most_player_of_match.plot.bar(xlabel='Players',ylabel='Number Of Awards',title='Top 10 Players By Most Player Of Matches Awards ',color='grey',figsize=(10,5))\n",
    "m.style.use('dark_background')\n",
    "m.legend()"
   ]
  },
  {
   "cell_type": "markdown",
   "id": "4ee2efee",
   "metadata": {},
   "source": [
    "* We can see that CH Gayle got awarded with player of match the most ( 21 times ) followed by AB de Villiers ( 20 times ) and from this analysis we can infer that CH Gayle is the most valuable player to his team followed by AB de Villiers"
   ]
  },
  {
   "cell_type": "markdown",
   "id": "336168f0",
   "metadata": {},
   "source": [
    "### No. of players that batted for atleast one bowl in IPL so far "
   ]
  },
  {
   "cell_type": "code",
   "execution_count": 42,
   "id": "37e50756",
   "metadata": {},
   "outputs": [
    {
     "data": {
      "text/plain": [
       "516"
      ]
     },
     "execution_count": 42,
     "metadata": {},
     "output_type": "execute_result"
    }
   ],
   "source": [
    "batters=len(deliveries_ds['batsman'].unique())\n",
    "batters"
   ]
  },
  {
   "cell_type": "markdown",
   "id": "af3b40bf",
   "metadata": {},
   "source": [
    "### No. of players that bowls for atleast one bowl in IPL so far"
   ]
  },
  {
   "cell_type": "code",
   "execution_count": 43,
   "id": "19f2aa39",
   "metadata": {},
   "outputs": [
    {
     "data": {
      "text/plain": [
       "405"
      ]
     },
     "execution_count": 43,
     "metadata": {},
     "output_type": "execute_result"
    }
   ],
   "source": [
    "bowlers=len(deliveries_ds['bowler'].unique())\n",
    "bowlers"
   ]
  },
  {
   "cell_type": "markdown",
   "id": "5b3b6b8c",
   "metadata": {},
   "source": [
    "### Most delivaries played by batsman"
   ]
  },
  {
   "cell_type": "code",
   "execution_count": 44,
   "id": "0e613b63",
   "metadata": {},
   "outputs": [
    {
     "data": {
      "text/plain": [
       "V Kohli       4211\n",
       "SK Raina      4044\n",
       "RG Sharma     3816\n",
       "S Dhawan      3776\n",
       "G Gambhir     3524\n",
       "RV Uthappa    3492\n",
       "DA Warner     3398\n",
       "MS Dhoni      3318\n",
       "AM Rahane     3215\n",
       "CH Gayle      3131\n",
       "Name: batsman, dtype: int64"
      ]
     },
     "execution_count": 44,
     "metadata": {},
     "output_type": "execute_result"
    }
   ],
   "source": [
    "played_most_deliveries=deliveries_ds['batsman'].value_counts()[0:10]\n",
    "played_most_deliveries"
   ]
  },
  {
   "cell_type": "code",
   "execution_count": 45,
   "id": "37598093",
   "metadata": {},
   "outputs": [
    {
     "data": {
      "text/plain": [
       "<AxesSubplot:title={'center':'Batsman who faced most number of balls'}, xlabel='Players', ylabel='Total number of deliveries'>"
      ]
     },
     "execution_count": 45,
     "metadata": {},
     "output_type": "execute_result"
    },
    {
     "data": {
      "image/png": "[encoded data removed]",
      "text/plain": [
       "<Figure size 720x360 with 1 Axes>"
      ]
     },
     "metadata": {},
     "output_type": "display_data"
    }
   ],
   "source": [
    "\n",
    "played_most_deliveries.plot.bar(xlabel='Players',ylabel='Total number of deliveries',title='Batsman who faced most number of balls',color='goldenrod',figsize=(10,5))"
   ]
  },
  {
   "cell_type": "markdown",
   "id": "2ae0de26",
   "metadata": {},
   "source": [
    "* Virat Kohli played most number of balls in the IPL history"
   ]
  },
  {
   "cell_type": "markdown",
   "id": "dd312ee5",
   "metadata": {},
   "source": [
    "### Bowler with most deliveries"
   ]
  },
  {
   "cell_type": "code",
   "execution_count": 46,
   "id": "758fe095",
   "metadata": {},
   "outputs": [
    {
     "data": {
      "text/plain": [
       "Harbhajan Singh    3451\n",
       "A Mishra           3172\n",
       "PP Chawla          3157\n",
       "R Ashwin           3016\n",
       "SL Malinga         2974\n",
       "DJ Bravo           2711\n",
       "B Kumar            2707\n",
       "P Kumar            2637\n",
       "UT Yadav           2605\n",
       "SP Narine          2600\n",
       "Name: bowler, dtype: int64"
      ]
     },
     "execution_count": 46,
     "metadata": {},
     "output_type": "execute_result"
    }
   ],
   "source": [
    "bowl_most_deliveries=deliveries_ds['bowler'].value_counts()[0:10]\n",
    "bowl_most_deliveries"
   ]
  },
  {
   "cell_type": "code",
   "execution_count": 47,
   "id": "a885e550",
   "metadata": {},
   "outputs": [
    {
     "data": {
      "text/plain": [
       "<AxesSubplot:title={'center':'Bowler with most deliveries'}, xlabel='Players', ylabel='Total number of deliveries'>"
      ]
     },
     "execution_count": 47,
     "metadata": {},
     "output_type": "execute_result"
    },
    {
     "data": {
      "image/png": "[encoded data removed]",
      "text/plain": [
       "<Figure size 720x360 with 1 Axes>"
      ]
     },
     "metadata": {},
     "output_type": "display_data"
    }
   ],
   "source": [
    "bowl_most_deliveries.plot.bar(xlabel='Players',ylabel='Total number of deliveries',title='Bowler with most deliveries',color='orange',figsize=(10,5))"
   ]
  },
  {
   "cell_type": "markdown",
   "id": "d4996dfe",
   "metadata": {},
   "source": [
    "* arbhajan Singh bowled most balls in IPL history so far"
   ]
  },
  {
   "cell_type": "code",
   "execution_count": 48,
   "id": "b8418f69",
   "metadata": {},
   "outputs": [
    {
     "data": {
      "text/plain": [
       "batsman\n",
       "V Kohli           5434\n",
       "SK Raina          5415\n",
       "RG Sharma         4914\n",
       "DA Warner         4741\n",
       "S Dhawan          4632\n",
       "CH Gayle          4560\n",
       "MS Dhoni          4477\n",
       "RV Uthappa        4446\n",
       "AB de Villiers    4428\n",
       "G Gambhir         4223\n",
       "Name: batsman_runs, dtype: int64"
      ]
     },
     "execution_count": 48,
     "metadata": {},
     "output_type": "execute_result"
    }
   ],
   "source": [
    "top_run_getter=deliveries_ds.groupby('batsman')['batsman_runs'].sum().sort_values(ascending=False)[0:10]\n",
    "top_run_getter"
   ]
  },
  {
   "cell_type": "code",
   "execution_count": 49,
   "id": "faabb2c8",
   "metadata": {},
   "outputs": [
    {
     "data": {
      "text/plain": [
       "<matplotlib.legend.Legend at 0x24faeae9c10>"
      ]
     },
     "execution_count": 49,
     "metadata": {},
     "output_type": "execute_result"
    },
    {
     "data": {
      "image/png": "[encoded data removed]",
      "text/plain": [
       "<Figure size 720x360 with 1 Axes>"
      ]
     },
     "metadata": {},
     "output_type": "display_data"
    }
   ],
   "source": [
    "top_run_getter.plot.bar(xlabel='Batsman',ylabel='Total number of runs',title='Top Runs Getter',color='mediumorchid',figsize=(10,5))\n",
    "m.style.use('dark_background')\n",
    "m.legend()"
   ]
  },
  {
   "cell_type": "markdown",
   "id": "4fdae906",
   "metadata": {},
   "source": [
    "* We can see that Virat Kohli is the top run scorerwith 5434 runs, followed by Suresh Raina with 5415 runs and Rohit Sharma with 4914 runs and from this we can also infer that Indian batsman dominate the top scorer list"
   ]
  },
  {
   "cell_type": "markdown",
   "id": "4f5e85b3",
   "metadata": {},
   "source": [
    "### Now compare these top 3 run scorer batting performance by runs per season "
   ]
  },
  {
   "cell_type": "markdown",
   "id": "f00141f9",
   "metadata": {},
   "source": [
    "# Comparison of top 3 run scorer per IPL season"
   ]
  },
  {
   "cell_type": "markdown",
   "id": "b3115d1b",
   "metadata": {},
   "source": [
    "### 1. Virat Kohli\n",
    "### 2. Suresh Raina\n",
    "### 3. Rohit Sharm"
   ]
  },
  {
   "cell_type": "markdown",
   "id": "b7452189",
   "metadata": {},
   "source": [
    "* For this comparison we need to merge two dataset"
   ]
  },
  {
   "cell_type": "code",
   "execution_count": 51,
   "id": "1e19866b",
   "metadata": {},
   "outputs": [],
   "source": [
    "df=p.merge(Matches_ds,deliveries_ds,left_on='id',right_on='match_id')"
   ]
  },
  {
   "cell_type": "markdown",
   "id": "58c58be9",
   "metadata": {},
   "source": [
    "### Virat Kohli runs per season"
   ]
  },
  {
   "cell_type": "code",
   "execution_count": 52,
   "id": "42659524",
   "metadata": {},
   "outputs": [
    {
     "data": {
      "text/plain": [
       "season\n",
       "2008    165\n",
       "2009    246\n",
       "2010    307\n",
       "2011    557\n",
       "2012    364\n",
       "2013    639\n",
       "2014    359\n",
       "2015    505\n",
       "2016    973\n",
       "2017    308\n",
       "2018    539\n",
       "2019    472\n",
       "Name: batsman_runs, dtype: int64"
      ]
     },
     "execution_count": 52,
     "metadata": {},
     "output_type": "execute_result"
    }
   ],
   "source": [
    "\n",
    "vKohli=df[df['batsman']=='V Kohli']\n",
    "vKohli=vKohli.groupby('season')['batsman_runs'].sum()\n",
    "vKohli"
   ]
  },
  {
   "cell_type": "markdown",
   "id": "17c2ab9f",
   "metadata": {},
   "source": [
    "### Suresh Raina runs per season"
   ]
  },
  {
   "cell_type": "code",
   "execution_count": 53,
   "id": "68239dff",
   "metadata": {},
   "outputs": [
    {
     "data": {
      "text/plain": [
       "season\n",
       "2008    421\n",
       "2009    434\n",
       "2010    528\n",
       "2011    438\n",
       "2012    441\n",
       "2013    548\n",
       "2014    523\n",
       "2015    374\n",
       "2016    399\n",
       "2017    442\n",
       "2018    466\n",
       "2019    401\n",
       "Name: batsman_runs, dtype: int64"
      ]
     },
     "execution_count": 53,
     "metadata": {},
     "output_type": "execute_result"
    }
   ],
   "source": [
    "raina=df[df['batsman']=='SK Raina']\n",
    "raina=raina.groupby('season')['batsman_runs'].sum()\n",
    "raina"
   ]
  },
  {
   "cell_type": "markdown",
   "id": "9b43ed73",
   "metadata": {},
   "source": [
    "### Rohit Sharma runs per season"
   ]
  },
  {
   "cell_type": "code",
   "execution_count": 54,
   "id": "55226e53",
   "metadata": {},
   "outputs": [
    {
     "data": {
      "text/plain": [
       "season\n",
       "2008    404\n",
       "2009    362\n",
       "2010    404\n",
       "2011    372\n",
       "2012    433\n",
       "2013    538\n",
       "2014    390\n",
       "2015    482\n",
       "2016    489\n",
       "2017    333\n",
       "2018    297\n",
       "2019    410\n",
       "Name: batsman_runs, dtype: int64"
      ]
     },
     "execution_count": 54,
     "metadata": {},
     "output_type": "execute_result"
    }
   ],
   "source": [
    "sharma=df[df['batsman']=='RG Sharma']\n",
    "sharma=sharma.groupby('season')['batsman_runs'].sum()\n",
    "sharma"
   ]
  },
  {
   "cell_type": "markdown",
   "id": "53d5b6e5",
   "metadata": {},
   "source": [
    "### Plotting a line chart to compaire their performance"
   ]
  },
  {
   "cell_type": "code",
   "execution_count": 55,
   "id": "8b5c8fe8",
   "metadata": {},
   "outputs": [
    {
     "data": {
      "text/plain": [
       "<matplotlib.legend.Legend at 0x24faec21af0>"
      ]
     },
     "execution_count": 55,
     "metadata": {},
     "output_type": "execute_result"
    },
    {
     "data": {
      "image/png": "[encoded data removed]",
      "text/plain": [
       "<Figure size 720x360 with 1 Axes>"
      ]
     },
     "metadata": {},
     "output_type": "display_data"
    }
   ],
   "source": [
    "vKohli.plot.line(xlabel='Season',ylabel='Total number of runs',title='Comparision Between Top Runs Getter',color='orange',figsize=(10,5),label='Virat Kohli')\n",
    "raina.plot.line(color='red',figsize=(10,5),label='Suresh Raina')\n",
    "sharma.plot.line(color='blue',figsize=(10,5),label='Rohit Sharma')\n",
    "m.style.use('dark_background')\n",
    "m.legend()"
   ]
  },
  {
   "cell_type": "markdown",
   "id": "5784fbd7",
   "metadata": {},
   "source": [
    "### From This We can Infer That "
   ]
  },
  {
   "cell_type": "markdown",
   "id": "7a95810a",
   "metadata": {},
   "source": [
    "* Suresh Raina is the most consistent player in the IPL history\n",
    "* Rohit Sharma is also consistent but not as consistent as Suresh Raina\n",
    "* Virat Kohli didn't started his career well in IPL. We can see there are sharp rise & decline of runs trend in alternate seasons and as we can see a shape rise in Virat Kohli runs in 2016 season that means his most succesful season was 2016 where we performed exceptionally well, also Virat Kohli is least consistent among the three players"
   ]
  },
  {
   "cell_type": "markdown",
   "id": "fa374256",
   "metadata": {},
   "source": [
    "### Extra runs "
   ]
  },
  {
   "cell_type": "code",
   "execution_count": 56,
   "id": "303bf7f4",
   "metadata": {},
   "outputs": [
    {
     "data": {
      "text/plain": [
       "bowler\n",
       "SL Malinga         293\n",
       "P Kumar            236\n",
       "UT Yadav           219\n",
       "DJ Bravo           201\n",
       "B Kumar            197\n",
       "I Sharma           194\n",
       "RP Singh           181\n",
       "DW Steyn           171\n",
       "SR Watson          171\n",
       "Harbhajan Singh    170\n",
       "Name: extra_runs, dtype: int64"
      ]
     },
     "execution_count": 56,
     "metadata": {},
     "output_type": "execute_result"
    }
   ],
   "source": [
    "extra_runs=deliveries_ds.groupby('bowler')['extra_runs'].sum().sort_values(ascending=False)[0:10]\n",
    "extra_runs"
   ]
  },
  {
   "cell_type": "code",
   "execution_count": 57,
   "id": "cb845308",
   "metadata": {},
   "outputs": [
    {
     "data": {
      "text/plain": [
       "<matplotlib.legend.Legend at 0x24faeb675e0>"
      ]
     },
     "execution_count": 57,
     "metadata": {},
     "output_type": "execute_result"
    },
    {
     "data": {
      "image/png": "[encoded data removed]",
      "text/plain": [
       "<Figure size 720x360 with 1 Axes>"
      ]
     },
     "metadata": {},
     "output_type": "display_data"
    }
   ],
   "source": [
    "extra_runs.plot.bar(xlabel='Bowler Name',ylabel='extra runs',title='Plyers who conceded most extra runs',color='rosybrown',figsize=(10,5))\n",
    "extra_runs\n",
    "m.style.use('dark_background')\n",
    "m.legend()"
   ]
  },
  {
   "cell_type": "markdown",
   "id": "e2e2de17",
   "metadata": {},
   "source": [
    "* SL Malinga conceded the most extra runs in the history of IPL"
   ]
  },
  {
   "cell_type": "markdown",
   "id": "796382dc",
   "metadata": {},
   "source": [
    "### Which bowler dissmissed which batsman the most"
   ]
  },
  {
   "cell_type": "code",
   "execution_count": 58,
   "id": "7cbe9978",
   "metadata": {},
   "outputs": [
    {
     "data": {
      "text/plain": [
       "bowler         player_dismissed\n",
       "Z Khan         MS Dhoni            7\n",
       "PP Ojha        MS Dhoni            7\n",
       "SP Narine      RG Sharma           6\n",
       "B Kumar        PA Patel            6\n",
       "               AM Rahane           6\n",
       "R Ashwin       RV Uthappa          6\n",
       "A Mishra       RG Sharma           6\n",
       "PP Chawla      AT Rayudu           6\n",
       "Z Khan         G Gambhir           6\n",
       "R Vinay Kumar  RG Sharma           6\n",
       "Name: player_dismissed, dtype: int64"
      ]
     },
     "execution_count": 58,
     "metadata": {},
     "output_type": "execute_result"
    }
   ],
   "source": [
    "bowl_out=deliveries_ds.groupby('bowler')['player_dismissed'].value_counts().sort_values(ascending=False)[0:10]\n",
    "bowl_out"
   ]
  },
  {
   "cell_type": "code",
   "execution_count": 70,
   "id": "1933ff11",
   "metadata": {},
   "outputs": [
    {
     "data": {
      "text/plain": [
       "<matplotlib.legend.Legend at 0x234ab536a60>"
      ]
     },
     "execution_count": 70,
     "metadata": {},
     "output_type": "execute_result"
    },
    {
     "data": {
      "image/png": "[encoded data removed]",
      "text/plain": [
       "<Figure size 720x360 with 1 Axes>"
      ]
     },
     "metadata": {},
     "output_type": "display_data"
    }
   ],
   "source": [
    "bowl_out.plot.bar(xlabel='Player Dismissed',ylabel='Count',title='Player dismissed total number of times',color='pink',figsize=(10,5))\n",
    "bowl_out\n",
    "m.style.use('dark_background')\n",
    "m.legend()"
   ]
  },
  {
   "cell_type": "markdown",
   "id": "0005c998",
   "metadata": {},
   "source": [
    "* rom this analysis we can infer that M.S.Dhoni can't play well against Zaheer Khan and Pragyan Ojha as they dismissed him the most number of times (7) followed by Rohit Sharma 6 times dismissal by 3 Bowlers each (Vinay Kumar, A Mishra & SP Narine"
   ]
  },
  {
   "cell_type": "markdown",
   "id": "9d59297e",
   "metadata": {},
   "source": [
    "### Players who got dismissed most number of times "
   ]
  },
  {
   "cell_type": "code",
   "execution_count": 59,
   "id": "73027352",
   "metadata": {},
   "outputs": [
    {
     "data": {
      "text/plain": [
       "SK Raina      162\n",
       "RG Sharma     155\n",
       "RV Uthappa    153\n",
       "V Kohli       143\n",
       "S Dhawan      137\n",
       "G Gambhir     136\n",
       "KD Karthik    135\n",
       "PA Patel      126\n",
       "AM Rahane     116\n",
       "AT Rayudu     115\n",
       "Name: player_dismissed, dtype: int64"
      ]
     },
     "execution_count": 59,
     "metadata": {},
     "output_type": "execute_result"
    }
   ],
   "source": [
    "got_dismissed=deliveries_ds['player_dismissed'].value_counts()[0:10]\n",
    "got_dismissed"
   ]
  },
  {
   "cell_type": "code",
   "execution_count": 72,
   "id": "35a1efe6",
   "metadata": {},
   "outputs": [
    {
     "data": {
      "text/plain": [
       "<matplotlib.legend.Legend at 0x234ab8f5df0>"
      ]
     },
     "execution_count": 72,
     "metadata": {},
     "output_type": "execute_result"
    },
    {
     "data": {
      "image/png": "[encoded data removed]",
      "text/plain": [
       "<Figure size 720x360 with 1 Axes>"
      ]
     },
     "metadata": {},
     "output_type": "display_data"
    }
   ],
   "source": [
    "got_dismissed.plot.bar(xlabel='Players',ylabel='Count',title='Players who got dismissed most number of times',color='green',figsize=(10,5))\n",
    "got_dismissed\n",
    "m.style.use('dark_background')\n",
    "m.legend()"
   ]
  },
  {
   "cell_type": "markdown",
   "id": "f110ee50",
   "metadata": {},
   "source": [
    "* SK Raina got out (162) times which is most in the IPL history, followed by RG Sharma(155) and RV Uthappa (153)"
   ]
  },
  {
   "cell_type": "code",
   "execution_count": 60,
   "id": "df37b536",
   "metadata": {},
   "outputs": [
    {
     "name": "stdout",
     "output_type": "stream",
     "text": [
      "             bowler  No. of dot balls\n",
      "59  Harbhajan Singh              1244\n",
      "58       SL Malinga              1144\n",
      "8           B Kumar              1116\n",
      "50         A Mishra              1108\n",
      "27        PP Chawla              1100\n"
     ]
    },
    {
     "data": {
      "text/plain": [
       "<AxesSubplot:title={'center':'Bowler with most number of dot balls'}, xlabel='bowler'>"
      ]
     },
     "execution_count": 60,
     "metadata": {},
     "output_type": "execute_result"
    },
    {
     "data": {
      "image/png": "[encoded data removed]",
      "text/plain": [
       "<Figure size 720x360 with 1 Axes>"
      ]
     },
     "metadata": {},
     "output_type": "display_data"
    }
   ],
   "source": [
    "data = []\n",
    "\n",
    "for i in df['bowler'].unique():\n",
    "    data.append([i, len(deliveries_ds[(deliveries_ds['bowler'] == i) & (deliveries_ds['total_runs'] == 0)])])\n",
    "\n",
    "plot_data = p.DataFrame(data,columns = ['bowler','No. of dot balls']).sort_values(by='No. of dot balls', ascending=False).head()\n",
    "print(plot_data)\n",
    "plot_data.plot(x = 'bowler', y = 'No. of dot balls', kind = 'bar', title='Bowler with most number of dot balls',figsize = (10,5), color = 'darkslategrey')"
   ]
  },
  {
   "cell_type": "markdown",
   "id": "15cb42a8",
   "metadata": {},
   "source": [
    "* Harbhajan Singh hold the records for most dot balls (1244) in the IPL history. We can also see that out of 5 bowlers with most dot balls three of times are spinners, So we can infer that spinners are ahead in terms of dot balls"
   ]
  },
  {
   "cell_type": "markdown",
   "id": "0caeb8e9",
   "metadata": {},
   "source": [
    "### Top 10 players involve in most dismissal "
   ]
  },
  {
   "cell_type": "code",
   "execution_count": 62,
   "id": "c492fba0",
   "metadata": {},
   "outputs": [
    {
     "data": {
      "text/plain": [
       "MS Dhoni          159\n",
       "KD Karthik        152\n",
       "RV Uthappa        125\n",
       "SK Raina          115\n",
       "AB de Villiers    114\n",
       "PA Patel           97\n",
       "RG Sharma          92\n",
       "V Kohli            90\n",
       "KA Pollard         85\n",
       "WP Saha            82\n",
       "Name: fielder, dtype: int64"
      ]
     },
     "execution_count": 62,
     "metadata": {},
     "output_type": "execute_result"
    }
   ],
   "source": [
    "most_dismissal_by_player=deliveries_ds['fielder'].value_counts()[0:10]\n",
    "most_dismissal_by_player"
   ]
  },
  {
   "cell_type": "code",
   "execution_count": 63,
   "id": "fce59af4",
   "metadata": {},
   "outputs": [
    {
     "data": {
      "text/plain": [
       "<matplotlib.legend.Legend at 0x24faeee4ca0>"
      ]
     },
     "execution_count": 63,
     "metadata": {},
     "output_type": "execute_result"
    },
    {
     "data": {
      "image/png": "[encoded data removed]",
      "text/plain": [
       "<Figure size 720x360 with 1 Axes>"
      ]
     },
     "metadata": {},
     "output_type": "display_data"
    }
   ],
   "source": [
    "most_dismissal_by_player.plot.bar(xlabel='Players',ylabel='Count',title='Players involve in most dismissals as fielders',color='maroon',figsize=(10,5))\n",
    "most_dismissal_by_player\n",
    "m.style.use('dark_background')\n",
    "m.legend()"
   ]
  },
  {
   "cell_type": "markdown",
   "id": "5f8e000d",
   "metadata": {},
   "source": [
    "* MS Dhoni Involve in the most number of dismissal (159) ss fielders followed by KD Karthik(152) and RV Utappa(125) number of dismissal"
   ]
  },
  {
   "cell_type": "markdown",
   "id": "7167e42d",
   "metadata": {},
   "source": [
    "### Key Insights :"
   ]
  },
  {
   "cell_type": "markdown",
   "id": "cd59be5e",
   "metadata": {},
   "source": [
    "* Top 15 Players by most runs category are dominated by the Indians and Virat Kohli is on Top with 5434 Runs followed By Suresh Raina (With 5415 Runs) and Rohit Sharma (with 4914 runs)\n",
    "* From Top 3 Players(Run wise) analysis we can Infer that Suresh Raina is the most consistent player than Virat Kohli and Rohit Sharma\n",
    "* Most player of the match awards are won by the big hitter with Chris Gayle at top with 21 Player of match award follwed by ABD vilers(With 20 Player of Match Awards) and from this analysis we can say that they are also the most valuable players to their respective teams over the years\n",
    "* Harbhajan Singh bowled the most deliveries in IPL while Virat Kohli faced most deliveries as a Batsman.\n",
    "* Harbhajan Singh holds the record for most dot balls in IPL So far\n",
    "* Lasith Malinga conceded most extra runs in IPL so far"
   ]
  },
  {
   "cell_type": "markdown",
   "id": "9539121b",
   "metadata": {},
   "source": [
    "### 3 : Analysis of IPL Matches  "
   ]
  },
  {
   "cell_type": "markdown",
   "id": "116bad61",
   "metadata": {},
   "source": [
    "#### Top 10 venue details which hosted the most number of matches "
   ]
  },
  {
   "cell_type": "code",
   "execution_count": 64,
   "id": "0a9dc77a",
   "metadata": {},
   "outputs": [
    {
     "data": {
      "text/plain": [
       "venue                                       city      \n",
       "Eden Gardens                                Kolkata       77\n",
       "Wankhede Stadium                            Mumbai        73\n",
       "Feroz Shah Kotla                            Delhi         67\n",
       "M Chinnaswamy Stadium                       Bangalore     66\n",
       "Rajiv Gandhi International Stadium, Uppal   Hyderabad     56\n",
       "MA Chidambaram Stadium, Chepauk             Chennai       49\n",
       "Sawai Mansingh Stadium                      Jaipur        47\n",
       "Punjab Cricket Association Stadium, Mohali  Chandigarh    35\n",
       "Maharashtra Cricket Association Stadium     Pune          21\n",
       "Dr DY Patil Sports Academy                  Mumbai        17\n",
       "Name: city, dtype: int64"
      ]
     },
     "execution_count": 64,
     "metadata": {},
     "output_type": "execute_result"
    }
   ],
   "source": [
    "venue_city=Matches_ds.groupby('venue')['city'].value_counts().sort_values(ascending=False)[0:10]\n",
    "venue_city"
   ]
  },
  {
   "cell_type": "code",
   "execution_count": 65,
   "id": "fd65ccdf",
   "metadata": {},
   "outputs": [
    {
     "data": {
      "text/plain": [
       "<AxesSubplot:title={'center':'Venue detailes which hosted the most number of matches'}, ylabel='venue'>"
      ]
     },
     "execution_count": 65,
     "metadata": {},
     "output_type": "execute_result"
    },
    {
     "data": {
      "image/png": "[encoded data removed]",
      "text/plain": [
       "<Figure size 720x360 with 1 Axes>"
      ]
     },
     "metadata": {},
     "output_type": "display_data"
    }
   ],
   "source": [
    "venue_city.plot.barh(xlabel='venue',ylabel='Counts',title='Venue detailes which hosted the most number of matches',color='yellow',figsize=(10,5))"
   ]
  },
  {
   "cell_type": "markdown",
   "id": "72117813",
   "metadata": {},
   "source": [
    "* Eden Garden Stadium of kolkata holds the record for hosting the most number of matches"
   ]
  },
  {
   "cell_type": "markdown",
   "id": "936695fb",
   "metadata": {},
   "source": [
    "### Season wise number of matches"
   ]
  },
  {
   "cell_type": "code",
   "execution_count": 66,
   "id": "a5f72d2e",
   "metadata": {},
   "outputs": [
    {
     "data": {
      "text/plain": [
       "2013    76\n",
       "2012    74\n",
       "2011    73\n",
       "2010    60\n",
       "2014    60\n",
       "2016    60\n",
       "2018    60\n",
       "2019    60\n",
       "2015    59\n",
       "2017    59\n",
       "2008    58\n",
       "2009    57\n",
       "Name: season, dtype: int64"
      ]
     },
     "execution_count": 66,
     "metadata": {},
     "output_type": "execute_result"
    }
   ],
   "source": [
    "season_wise_matches=Matches_ds['season'].value_counts()\n",
    "season_wise_matches"
   ]
  },
  {
   "cell_type": "code",
   "execution_count": 67,
   "id": "a8eeb284",
   "metadata": {},
   "outputs": [
    {
     "data": {
      "text/plain": [
       "<matplotlib.legend.Legend at 0x24faeaf8eb0>"
      ]
     },
     "execution_count": 67,
     "metadata": {},
     "output_type": "execute_result"
    },
    {
     "data": {
      "image/png": "[encoded data removed]",
      "text/plain": [
       "<Figure size 720x360 with 1 Axes>"
      ]
     },
     "metadata": {},
     "output_type": "display_data"
    }
   ],
   "source": [
    "season_wise_matches.plot.bar(xlabel='season',ylabel='Counts',title='Season wise total matches',color='brown',figsize=(10,5))\n",
    "m.style.use('dark_background')\n",
    "m.legend()"
   ]
  },
  {
   "cell_type": "markdown",
   "id": "a30fe6ab",
   "metadata": {},
   "source": [
    "### Match result "
   ]
  },
  {
   "cell_type": "code",
   "execution_count": 73,
   "id": "1ad41638",
   "metadata": {},
   "outputs": [
    {
     "data": {
      "text/plain": [
       "normal       743\n",
       "tie            9\n",
       "no result      4\n",
       "Name: result, dtype: int64"
      ]
     },
     "execution_count": 73,
     "metadata": {},
     "output_type": "execute_result"
    }
   ],
   "source": [
    "match_result=Matches_ds['result'].value_counts()\n",
    "match_result"
   ]
  },
  {
   "cell_type": "code",
   "execution_count": 74,
   "id": "0bcc4328",
   "metadata": {},
   "outputs": [
    {
     "data": {
      "text/plain": [
       "<matplotlib.legend.Legend at 0x24faf2a1ee0>"
      ]
     },
     "execution_count": 74,
     "metadata": {},
     "output_type": "execute_result"
    },
    {
     "data": {
      "image/png": "[encoded data removed]",
      "text/plain": [
       "<Figure size 720x360 with 1 Axes>"
      ]
     },
     "metadata": {},
     "output_type": "display_data"
    }
   ],
   "source": [
    "match_result=match_result.plot(kind='bar',color='green',figsize=(10,5))\n",
    "m.style.use('dark_background')\n",
    "match_result.set_title('Match Result')\n",
    "match_result.set_ylabel('Count of number of matches')\n",
    "m.legend()"
   ]
  },
  {
   "cell_type": "markdown",
   "id": "38e89d3a",
   "metadata": {},
   "source": [
    "* We can infer that there are only 4 matches happened in the IPL so far when there was no result"
   ]
  },
  {
   "cell_type": "markdown",
   "id": "cc1b62a1",
   "metadata": {},
   "source": [
    "### D/L rule"
   ]
  },
  {
   "cell_type": "code",
   "execution_count": 76,
   "id": "64942e83",
   "metadata": {},
   "outputs": [
    {
     "data": {
      "text/plain": [
       "0    737\n",
       "1     19\n",
       "Name: dl_applied, dtype: int64"
      ]
     },
     "execution_count": 76,
     "metadata": {},
     "output_type": "execute_result"
    }
   ],
   "source": [
    "dl_rule=Matches_ds['dl_applied'].value_counts()\n",
    "dl_rule"
   ]
  },
  {
   "cell_type": "code",
   "execution_count": 77,
   "id": "413c26a7",
   "metadata": {},
   "outputs": [
    {
     "data": {
      "text/plain": [
       "Not Applied    737\n",
       "Applied         19\n",
       "Name: dl_applied, dtype: int64"
      ]
     },
     "execution_count": 77,
     "metadata": {},
     "output_type": "execute_result"
    }
   ],
   "source": [
    "dl_rule=Matches_ds['dl_applied'].replace(to_replace=0,value='Not Applied',inplace=True)\n",
    "dl_rule=Matches_ds['dl_applied'].replace(to_replace=1,value='Applied',inplace=True)\n",
    "dl_rule=Matches_ds['dl_applied'].value_counts()\n",
    "dl_rule"
   ]
  },
  {
   "cell_type": "code",
   "execution_count": 78,
   "id": "881f654b",
   "metadata": {},
   "outputs": [
    {
     "data": {
      "text/plain": [
       "<matplotlib.legend.Legend at 0x24faf297cd0>"
      ]
     },
     "execution_count": 78,
     "metadata": {},
     "output_type": "execute_result"
    },
    {
     "data": {
      "image/png": "[encoded data removed]",
      "text/plain": [
       "<Figure size 720x360 with 1 Axes>"
      ]
     },
     "metadata": {},
     "output_type": "display_data"
    }
   ],
   "source": [
    "dl_rule=dl_rule.plot(kind='bar',color='orange',figsize=(10,5))\n",
    "m.style.use('dark_background')\n",
    "dl_rule.set_title('Matches where D/L rule is aaplied')\n",
    "dl_rule.set_ylabel('Number of matches')\n",
    "m.legend()"
   ]
  },
  {
   "cell_type": "markdown",
   "id": "d04fe9a8",
   "metadata": {},
   "source": [
    "* We can infer that there are only 19 matches in which D/L rule is applied"
   ]
  },
  {
   "cell_type": "markdown",
   "id": "d5b0ed93",
   "metadata": {},
   "source": [
    "### Dismissal type"
   ]
  },
  {
   "cell_type": "code",
   "execution_count": 79,
   "id": "d0b87ce2",
   "metadata": {},
   "outputs": [
    {
     "data": {
      "text/plain": [
       "caught                   5348\n",
       "bowled                   1581\n",
       "run out                   852\n",
       "lbw                       540\n",
       "stumped                   278\n",
       "caught and bowled         211\n",
       "retired hurt               12\n",
       "hit wicket                 10\n",
       "obstructing the field       2\n",
       "Name: dismissal_kind, dtype: int64"
      ]
     },
     "execution_count": 79,
     "metadata": {},
     "output_type": "execute_result"
    }
   ],
   "source": [
    "dismissal_type=deliveries_ds['dismissal_kind'].value_counts()\n",
    "dismissal_type"
   ]
  },
  {
   "cell_type": "code",
   "execution_count": 80,
   "id": "160f433b",
   "metadata": {},
   "outputs": [
    {
     "data": {
      "text/plain": [
       "<matplotlib.legend.Legend at 0x24faf2e99d0>"
      ]
     },
     "execution_count": 80,
     "metadata": {},
     "output_type": "execute_result"
    },
    {
     "data": {
      "image/png": "[encoded data removed]",
      "text/plain": [
       "<Figure size 720x360 with 1 Axes>"
      ]
     },
     "metadata": {},
     "output_type": "display_data"
    }
   ],
   "source": [
    "dismissal_type=dismissal_type.plot(kind='bar',color='darkslategrey',figsize=(10,5))\n",
    "m.style.use('dark_background')\n",
    "dismissal_type.set_title('Most dismissal type')\n",
    "dismissal_type.set_xlabel('Number of dismissal type')\n",
    "dismissal_type.set_ylabel('Counts')\n",
    "m.legend()"
   ]
  },
  {
   "cell_type": "markdown",
   "id": "ebf2fc9c",
   "metadata": {},
   "source": [
    "* Players gets dismissed the most by means of catches ( 5348 times ) and least by obstructing the field ( only 2 times )"
   ]
  },
  {
   "cell_type": "markdown",
   "id": "615b5584",
   "metadata": {},
   "source": [
    "### Super over"
   ]
  },
  {
   "cell_type": "code",
   "execution_count": 81,
   "id": "28601b8e",
   "metadata": {},
   "outputs": [
    {
     "data": {
      "text/plain": [
       "0    178997\n",
       "1        81\n",
       "Name: is_super_over, dtype: int64"
      ]
     },
     "execution_count": 81,
     "metadata": {},
     "output_type": "execute_result"
    }
   ],
   "source": [
    "super_over=deliveries_ds['is_super_over'].value_counts()\n",
    "super_over"
   ]
  },
  {
   "cell_type": "markdown",
   "id": "faa209bd",
   "metadata": {},
   "source": [
    "* Let's replace the \"1\" to \"Yes\" & \"0\" to \"No\""
   ]
  },
  {
   "cell_type": "code",
   "execution_count": 82,
   "id": "a8272883",
   "metadata": {},
   "outputs": [
    {
     "data": {
      "text/plain": [
       "No     178997\n",
       "Yes        81\n",
       "Name: is_super_over, dtype: int64"
      ]
     },
     "execution_count": 82,
     "metadata": {},
     "output_type": "execute_result"
    }
   ],
   "source": [
    "super_over=deliveries_ds['is_super_over'].replace(to_replace=0,value='No',inplace=True)\n",
    "super_over=deliveries_ds['is_super_over'].replace(to_replace=1,value='Yes',inplace=True)\n",
    "super_over=deliveries_ds['is_super_over'].value_counts()\n",
    "super_over"
   ]
  },
  {
   "cell_type": "code",
   "execution_count": 83,
   "id": "695362a9",
   "metadata": {},
   "outputs": [
    {
     "data": {
      "text/plain": [
       "<matplotlib.legend.Legend at 0x24faf3d5880>"
      ]
     },
     "execution_count": 83,
     "metadata": {},
     "output_type": "execute_result"
    },
    {
     "data": {
      "image/png": "[encoded data removed]",
      "text/plain": [
       "<Figure size 720x360 with 1 Axes>"
      ]
     },
     "metadata": {},
     "output_type": "display_data"
    }
   ],
   "source": [
    "super_over.plot.bar(ylabel='Number overs',title='How often super over happened',color='purple',figsize=(10,5))\n",
    "m.style.use('dark_background')\n",
    "m.legend()"
   ]
  },
  {
   "cell_type": "markdown",
   "id": "c857ca15",
   "metadata": {},
   "source": [
    "* 81 super overs are played in the IPL history so far"
   ]
  },
  {
   "cell_type": "markdown",
   "id": "9e498dc3",
   "metadata": {},
   "source": [
    "### Close matches"
   ]
  },
  {
   "cell_type": "markdown",
   "id": "fa9496c5",
   "metadata": {},
   "source": [
    "* ( 1 Run win/lose & 1 Wicket win/lose )"
   ]
  },
  {
   "cell_type": "code",
   "execution_count": 85,
   "id": "84ffbda5",
   "metadata": {},
   "outputs": [
    {
     "data": {
      "text/plain": [
       "1    10\n",
       "Name: win_by_runs, dtype: int64"
      ]
     },
     "execution_count": 85,
     "metadata": {},
     "output_type": "execute_result"
    }
   ],
   "source": [
    "close_matches_by1_run=Matches_ds.win_by_runs[Matches_ds.win_by_runs==1].value_counts()\n",
    "close_matches_by1_run"
   ]
  },
  {
   "cell_type": "markdown",
   "id": "ad762ff5",
   "metadata": {},
   "source": [
    "* We can see there are 10 matches ended with win/lose by 1 run"
   ]
  },
  {
   "cell_type": "markdown",
   "id": "7e8a30ac",
   "metadata": {},
   "source": [
    "### Let's see the breakdown of these matches with the teams which involved the most in these matches"
   ]
  },
  {
   "cell_type": "code",
   "execution_count": 86,
   "id": "4c2bf9ca",
   "metadata": {},
   "outputs": [
    {
     "data": {
      "text/plain": [
       "Mumbai Indians                 3\n",
       "Kings XI Punjab                2\n",
       "Royal Challengers Bangalore    2\n",
       "Gujarat Lions                  1\n",
       "Chennai Super Kings            1\n",
       "Delhi Daredevils               1\n",
       "Name: winner, dtype: int64"
      ]
     },
     "execution_count": 86,
     "metadata": {},
     "output_type": "execute_result"
    }
   ],
   "source": [
    "close_matches_by1_run=Matches_ds.winner[Matches_ds.win_by_runs==1].value_counts()\n",
    "close_matches_by1_run"
   ]
  },
  {
   "cell_type": "markdown",
   "id": "362b1c36",
   "metadata": {},
   "source": [
    "* By 1 Wicket"
   ]
  },
  {
   "cell_type": "code",
   "execution_count": 87,
   "id": "dd04d45e",
   "metadata": {},
   "outputs": [
    {
     "data": {
      "text/plain": [
       "1    3\n",
       "Name: win_by_wickets, dtype: int64"
      ]
     },
     "execution_count": 87,
     "metadata": {},
     "output_type": "execute_result"
    }
   ],
   "source": [
    "\n",
    "close_matches_by1_wickets=Matches_ds.win_by_wickets[Matches_ds.win_by_wickets==1].value_counts()\n",
    "close_matches_by1_wickets"
   ]
  },
  {
   "cell_type": "markdown",
   "id": "5cb94fa7",
   "metadata": {},
   "source": [
    "* We can see there are 10 matches ended with win/lose by 1 wicket"
   ]
  },
  {
   "cell_type": "markdown",
   "id": "9adb3205",
   "metadata": {},
   "source": [
    "### Let's see the breakdown of these matches with the teams which involved the most in these matches "
   ]
  },
  {
   "cell_type": "code",
   "execution_count": 88,
   "id": "eee276f4",
   "metadata": {},
   "outputs": [
    {
     "data": {
      "text/plain": [
       "Chennai Super Kings      1\n",
       "Kolkata Knight Riders    1\n",
       "Sunrisers Hyderabad      1\n",
       "Name: winner, dtype: int64"
      ]
     },
     "execution_count": 88,
     "metadata": {},
     "output_type": "execute_result"
    }
   ],
   "source": [
    "close_matches_by1_wickets=Matches_ds.winner[Matches_ds.win_by_wickets==1].value_counts()\n",
    "close_matches_by1_wickets"
   ]
  },
  {
   "cell_type": "markdown",
   "id": "25973bec",
   "metadata": {},
   "source": [
    "### Key Insights:"
   ]
  },
  {
   "cell_type": "markdown",
   "id": "6baea870",
   "metadata": {},
   "source": [
    "* Eden Garden Satdium of Kolkata city hosted themost number of matches(77) followed by Wankhede Stadium(73)\n",
    "* Most matches played in 2013-Season (76 Matches) , followed by 2012-Season (74 Matches)\n",
    "* D/L rule is applied to 19 matches\n",
    "* Most dismissal type is catch in the IPL so far and the least type is \"Obstructing The Field\" by which only 2 players got dismissed.\n",
    "* There are 81 super overs played in IPL so far"
   ]
  },
  {
   "cell_type": "code",
   "execution_count": null,
   "id": "bd7f1b47",
   "metadata": {},
   "outputs": [],
   "source": []
  }
 ],
 "metadata": {
  "kernelspec": {
   "display_name": "Python 3",
   "language": "python",
   "name": "python3"
  },
  "language_info": {
   "codemirror_mode": {
    "name": "ipython",
    "version": 3
   },
   "file_extension": ".py",
   "mimetype": "text/x-python",
   "name": "python",
   "nbconvert_exporter": "python",
   "pygments_lexer": "ipython3",
   "version": "3.8.8"
  }
 },
 "nbformat": 4,
 "nbformat_minor": 5
}
